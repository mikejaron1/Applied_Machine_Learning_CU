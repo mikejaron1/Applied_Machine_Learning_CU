{
 "cells": [
  {
   "cell_type": "markdown",
   "metadata": {},
   "source": [
    "# Submission Information:\n",
    "\n",
    "### Team Member 1:\n",
    "* UNI: mj2776 \n",
    "* Name: Michael Jaron\n",
    "\n",
    "### Team Member 2 [optional]:\n",
    "* UNI:  \n",
    "* Name:"
   ]
  },
  {
   "cell_type": "markdown",
   "metadata": {},
   "source": [
    "# Step0 - Import Libraries, Load Data [0 points]\n",
    "\n",
    "This is the basic step where you can load the data and create train and test sets for internal validation as per your convinience."
   ]
  },
  {
   "cell_type": "code",
   "execution_count": 261,
   "metadata": {
    "collapsed": false
   },
   "outputs": [],
   "source": [
    "#write code below, you can make multiple cells\n",
    "\n",
    "# for step1\n",
    "import pandas as pd\n",
    "import numpy as np\n",
    "import seaborn as sns\n",
    "import matplotlib.pyplot as plt\n",
    "%matplotlib inline\n",
    "seed = 7\n",
    "sns.set(style=\"whitegrid\", color_codes=True)\n",
    "\n",
    "from sklearn.model_selection import train_test_split, cross_val_predict, cross_val_score, GridSearchCV\n",
    "\n",
    "# for step2\n",
    "from sklearn.metrics import roc_auc_score, accuracy_score\n",
    "from sklearn.pipeline import make_pipeline\n",
    "from sklearn.svm import SVC\n",
    "from sklearn.linear_model import SGDClassifier, LogisticRegression\n",
    "from sklearn.discriminant_analysis import LinearDiscriminantAnalysis\n",
    "from sklearn.neighbors import KNeighborsClassifier\n",
    "from sklearn.naive_bayes import GaussianNB\n",
    "from sklearn.preprocessing import PolynomialFeatures, StandardScaler\n",
    "\n",
    "# for step3\n",
    "from sklearn.tree import DecisionTreeClassifier\n",
    "from sklearn.ensemble import RandomForestClassifier, GradientBoostingClassifier\n",
    "\n",
    "# for step4\n",
    "from sklearn.ensemble import VotingClassifier\n",
    "from sklearn.neighbors import KNeighborsClassifier\n",
    "from sklearn.preprocessing import FunctionTransformer\n",
    "\n",
    "# for Bonus\n",
    "from imblearn.ensemble import EasyEnsemble\n",
    "from imblearn.pipeline import make_pipeline as make_imb_pipeline\n",
    "from imblearn.under_sampling import RandomUnderSampler\n",
    "from imblearn.over_sampling import SMOTE\n"
   ]
  },
  {
   "cell_type": "code",
   "execution_count": 5,
   "metadata": {
    "collapsed": false
   },
   "outputs": [],
   "source": [
    "df = pd.read_csv('./data/data.csv')"
   ]
  },
  {
   "cell_type": "code",
   "execution_count": 6,
   "metadata": {
    "collapsed": false
   },
   "outputs": [
    {
     "data": {
      "text/html": [
       "<div>\n",
       "<table border=\"1\" class=\"dataframe\">\n",
       "  <thead>\n",
       "    <tr style=\"text-align: right;\">\n",
       "      <th></th>\n",
       "      <th>age</th>\n",
       "      <th>job</th>\n",
       "      <th>marital_status</th>\n",
       "      <th>education</th>\n",
       "      <th>credit_default</th>\n",
       "      <th>housing</th>\n",
       "      <th>loan</th>\n",
       "      <th>contact</th>\n",
       "      <th>month</th>\n",
       "      <th>day_of_week</th>\n",
       "      <th>...</th>\n",
       "      <th>campaign</th>\n",
       "      <th>prev_days</th>\n",
       "      <th>prev_contacts</th>\n",
       "      <th>prev_outcomes</th>\n",
       "      <th>emp_var_rate</th>\n",
       "      <th>cons_price_idx</th>\n",
       "      <th>cons_conf_idx</th>\n",
       "      <th>euribor3m</th>\n",
       "      <th>nr_employed</th>\n",
       "      <th>subscribed</th>\n",
       "    </tr>\n",
       "  </thead>\n",
       "  <tbody>\n",
       "    <tr>\n",
       "      <th>0</th>\n",
       "      <td>41.0</td>\n",
       "      <td>blue-collar</td>\n",
       "      <td>married</td>\n",
       "      <td>basic.9y</td>\n",
       "      <td>no</td>\n",
       "      <td>yes</td>\n",
       "      <td>no</td>\n",
       "      <td>cellular</td>\n",
       "      <td>apr</td>\n",
       "      <td>mon</td>\n",
       "      <td>...</td>\n",
       "      <td>2.0</td>\n",
       "      <td>999</td>\n",
       "      <td>0</td>\n",
       "      <td>nonexistent</td>\n",
       "      <td>-1.695118</td>\n",
       "      <td>92.698705</td>\n",
       "      <td>-46.727552</td>\n",
       "      <td>1.345160</td>\n",
       "      <td>5097.0</td>\n",
       "      <td>no</td>\n",
       "    </tr>\n",
       "    <tr>\n",
       "      <th>1</th>\n",
       "      <td>46.0</td>\n",
       "      <td>entrepreneur</td>\n",
       "      <td>married</td>\n",
       "      <td>unknown</td>\n",
       "      <td>no</td>\n",
       "      <td>no</td>\n",
       "      <td>no</td>\n",
       "      <td>cellular</td>\n",
       "      <td>may</td>\n",
       "      <td>wed</td>\n",
       "      <td>...</td>\n",
       "      <td>2.0</td>\n",
       "      <td>999</td>\n",
       "      <td>0</td>\n",
       "      <td>nonexistent</td>\n",
       "      <td>-1.767159</td>\n",
       "      <td>92.914878</td>\n",
       "      <td>-46.313088</td>\n",
       "      <td>1.314499</td>\n",
       "      <td>5100.0</td>\n",
       "      <td>no</td>\n",
       "    </tr>\n",
       "    <tr>\n",
       "      <th>2</th>\n",
       "      <td>56.0</td>\n",
       "      <td>unemployed</td>\n",
       "      <td>married</td>\n",
       "      <td>basic.9y</td>\n",
       "      <td>no</td>\n",
       "      <td>yes</td>\n",
       "      <td>yes</td>\n",
       "      <td>cellular</td>\n",
       "      <td>nov</td>\n",
       "      <td>fri</td>\n",
       "      <td>...</td>\n",
       "      <td>1.0</td>\n",
       "      <td>999</td>\n",
       "      <td>0</td>\n",
       "      <td>nonexistent</td>\n",
       "      <td>-0.100365</td>\n",
       "      <td>93.423076</td>\n",
       "      <td>-41.904559</td>\n",
       "      <td>4.003471</td>\n",
       "      <td>5193.0</td>\n",
       "      <td>no</td>\n",
       "    </tr>\n",
       "    <tr>\n",
       "      <th>3</th>\n",
       "      <td>89.0</td>\n",
       "      <td>retired</td>\n",
       "      <td>divorced</td>\n",
       "      <td>basic.4y</td>\n",
       "      <td>no</td>\n",
       "      <td>yes</td>\n",
       "      <td>no</td>\n",
       "      <td>cellular</td>\n",
       "      <td>may</td>\n",
       "      <td>wed</td>\n",
       "      <td>...</td>\n",
       "      <td>4.0</td>\n",
       "      <td>999</td>\n",
       "      <td>0</td>\n",
       "      <td>nonexistent</td>\n",
       "      <td>-1.771314</td>\n",
       "      <td>93.672814</td>\n",
       "      <td>-46.045500</td>\n",
       "      <td>1.261668</td>\n",
       "      <td>5100.0</td>\n",
       "      <td>no</td>\n",
       "    </tr>\n",
       "    <tr>\n",
       "      <th>4</th>\n",
       "      <td>34.0</td>\n",
       "      <td>entrepreneur</td>\n",
       "      <td>married</td>\n",
       "      <td>university.degree</td>\n",
       "      <td>unknown</td>\n",
       "      <td>yes</td>\n",
       "      <td>no</td>\n",
       "      <td>cellular</td>\n",
       "      <td>jul</td>\n",
       "      <td>thu</td>\n",
       "      <td>...</td>\n",
       "      <td>8.0</td>\n",
       "      <td>999</td>\n",
       "      <td>0</td>\n",
       "      <td>nonexistent</td>\n",
       "      <td>1.458103</td>\n",
       "      <td>94.296285</td>\n",
       "      <td>-42.455877</td>\n",
       "      <td>5.152077</td>\n",
       "      <td>5233.0</td>\n",
       "      <td>no</td>\n",
       "    </tr>\n",
       "  </tbody>\n",
       "</table>\n",
       "<p>5 rows × 21 columns</p>\n",
       "</div>"
      ],
      "text/plain": [
       "    age           job marital_status          education credit_default  \\\n",
       "0  41.0   blue-collar        married           basic.9y             no   \n",
       "1  46.0  entrepreneur        married            unknown             no   \n",
       "2  56.0    unemployed        married           basic.9y             no   \n",
       "3  89.0       retired       divorced           basic.4y             no   \n",
       "4  34.0  entrepreneur        married  university.degree        unknown   \n",
       "\n",
       "  housing loan   contact month day_of_week     ...      campaign  prev_days  \\\n",
       "0     yes   no  cellular   apr         mon     ...           2.0        999   \n",
       "1      no   no  cellular   may         wed     ...           2.0        999   \n",
       "2     yes  yes  cellular   nov         fri     ...           1.0        999   \n",
       "3     yes   no  cellular   may         wed     ...           4.0        999   \n",
       "4     yes   no  cellular   jul         thu     ...           8.0        999   \n",
       "\n",
       "   prev_contacts  prev_outcomes emp_var_rate  cons_price_idx  cons_conf_idx  \\\n",
       "0              0    nonexistent    -1.695118       92.698705     -46.727552   \n",
       "1              0    nonexistent    -1.767159       92.914878     -46.313088   \n",
       "2              0    nonexistent    -0.100365       93.423076     -41.904559   \n",
       "3              0    nonexistent    -1.771314       93.672814     -46.045500   \n",
       "4              0    nonexistent     1.458103       94.296285     -42.455877   \n",
       "\n",
       "   euribor3m  nr_employed  subscribed  \n",
       "0   1.345160       5097.0          no  \n",
       "1   1.314499       5100.0          no  \n",
       "2   4.003471       5193.0          no  \n",
       "3   1.261668       5100.0          no  \n",
       "4   5.152077       5233.0          no  \n",
       "\n",
       "[5 rows x 21 columns]"
      ]
     },
     "execution_count": 6,
     "metadata": {},
     "output_type": "execute_result"
    }
   ],
   "source": [
    "df.head()"
   ]
  },
  {
   "cell_type": "markdown",
   "metadata": {},
   "source": [
    "# Step1 - Exploration and Preparation [10 points]\n",
    "\n",
    "In this step, we expect you to look into the data and try to understand it before modeling. This understanding may lead to some basic data preparation steps which are common across the two model sets required."
   ]
  },
  {
   "cell_type": "code",
   "execution_count": 7,
   "metadata": {
    "collapsed": false
   },
   "outputs": [
    {
     "name": "stdout",
     "output_type": "stream",
     "text": [
      "(32950, 20)\n",
      "['age', 'job', 'marital_status', 'education', 'credit_default', 'housing', 'loan', 'contact', 'month', 'day_of_week', 'campaign', 'prev_days', 'prev_contacts', 'prev_outcomes', 'emp_var_rate', 'cons_price_idx', 'cons_conf_idx', 'euribor3m', 'nr_employed', 'subscribed']\n"
     ]
    },
    {
     "data": {
      "text/html": [
       "<div>\n",
       "<table border=\"1\" class=\"dataframe\">\n",
       "  <thead>\n",
       "    <tr style=\"text-align: right;\">\n",
       "      <th></th>\n",
       "      <th>age</th>\n",
       "      <th>job</th>\n",
       "      <th>marital_status</th>\n",
       "      <th>education</th>\n",
       "      <th>credit_default</th>\n",
       "      <th>housing</th>\n",
       "      <th>loan</th>\n",
       "      <th>contact</th>\n",
       "      <th>month</th>\n",
       "      <th>day_of_week</th>\n",
       "      <th>campaign</th>\n",
       "      <th>prev_days</th>\n",
       "      <th>prev_contacts</th>\n",
       "      <th>prev_outcomes</th>\n",
       "      <th>emp_var_rate</th>\n",
       "      <th>cons_price_idx</th>\n",
       "      <th>cons_conf_idx</th>\n",
       "      <th>euribor3m</th>\n",
       "      <th>nr_employed</th>\n",
       "      <th>subscribed</th>\n",
       "    </tr>\n",
       "  </thead>\n",
       "  <tbody>\n",
       "    <tr>\n",
       "      <th>0</th>\n",
       "      <td>41.0</td>\n",
       "      <td>1</td>\n",
       "      <td>1</td>\n",
       "      <td>2</td>\n",
       "      <td>0</td>\n",
       "      <td>2</td>\n",
       "      <td>0</td>\n",
       "      <td>0</td>\n",
       "      <td>0</td>\n",
       "      <td>1</td>\n",
       "      <td>2.0</td>\n",
       "      <td>999</td>\n",
       "      <td>0</td>\n",
       "      <td>1</td>\n",
       "      <td>-1.695118</td>\n",
       "      <td>92.698705</td>\n",
       "      <td>-46.727552</td>\n",
       "      <td>1.345160</td>\n",
       "      <td>5097.0</td>\n",
       "      <td>0</td>\n",
       "    </tr>\n",
       "    <tr>\n",
       "      <th>1</th>\n",
       "      <td>46.0</td>\n",
       "      <td>2</td>\n",
       "      <td>1</td>\n",
       "      <td>7</td>\n",
       "      <td>0</td>\n",
       "      <td>0</td>\n",
       "      <td>0</td>\n",
       "      <td>0</td>\n",
       "      <td>6</td>\n",
       "      <td>4</td>\n",
       "      <td>2.0</td>\n",
       "      <td>999</td>\n",
       "      <td>0</td>\n",
       "      <td>1</td>\n",
       "      <td>-1.767159</td>\n",
       "      <td>92.914878</td>\n",
       "      <td>-46.313088</td>\n",
       "      <td>1.314499</td>\n",
       "      <td>5100.0</td>\n",
       "      <td>0</td>\n",
       "    </tr>\n",
       "    <tr>\n",
       "      <th>2</th>\n",
       "      <td>56.0</td>\n",
       "      <td>10</td>\n",
       "      <td>1</td>\n",
       "      <td>2</td>\n",
       "      <td>0</td>\n",
       "      <td>2</td>\n",
       "      <td>2</td>\n",
       "      <td>0</td>\n",
       "      <td>7</td>\n",
       "      <td>0</td>\n",
       "      <td>1.0</td>\n",
       "      <td>999</td>\n",
       "      <td>0</td>\n",
       "      <td>1</td>\n",
       "      <td>-0.100365</td>\n",
       "      <td>93.423076</td>\n",
       "      <td>-41.904559</td>\n",
       "      <td>4.003471</td>\n",
       "      <td>5193.0</td>\n",
       "      <td>0</td>\n",
       "    </tr>\n",
       "    <tr>\n",
       "      <th>3</th>\n",
       "      <td>89.0</td>\n",
       "      <td>5</td>\n",
       "      <td>0</td>\n",
       "      <td>0</td>\n",
       "      <td>0</td>\n",
       "      <td>2</td>\n",
       "      <td>0</td>\n",
       "      <td>0</td>\n",
       "      <td>6</td>\n",
       "      <td>4</td>\n",
       "      <td>4.0</td>\n",
       "      <td>999</td>\n",
       "      <td>0</td>\n",
       "      <td>1</td>\n",
       "      <td>-1.771314</td>\n",
       "      <td>93.672814</td>\n",
       "      <td>-46.045500</td>\n",
       "      <td>1.261668</td>\n",
       "      <td>5100.0</td>\n",
       "      <td>0</td>\n",
       "    </tr>\n",
       "    <tr>\n",
       "      <th>4</th>\n",
       "      <td>34.0</td>\n",
       "      <td>2</td>\n",
       "      <td>1</td>\n",
       "      <td>6</td>\n",
       "      <td>1</td>\n",
       "      <td>2</td>\n",
       "      <td>0</td>\n",
       "      <td>0</td>\n",
       "      <td>3</td>\n",
       "      <td>2</td>\n",
       "      <td>8.0</td>\n",
       "      <td>999</td>\n",
       "      <td>0</td>\n",
       "      <td>1</td>\n",
       "      <td>1.458103</td>\n",
       "      <td>94.296285</td>\n",
       "      <td>-42.455877</td>\n",
       "      <td>5.152077</td>\n",
       "      <td>5233.0</td>\n",
       "      <td>0</td>\n",
       "    </tr>\n",
       "  </tbody>\n",
       "</table>\n",
       "</div>"
      ],
      "text/plain": [
       "    age  job  marital_status  education  credit_default  housing  loan  \\\n",
       "0  41.0    1               1          2               0        2     0   \n",
       "1  46.0    2               1          7               0        0     0   \n",
       "2  56.0   10               1          2               0        2     2   \n",
       "3  89.0    5               0          0               0        2     0   \n",
       "4  34.0    2               1          6               1        2     0   \n",
       "\n",
       "   contact  month  day_of_week  campaign  prev_days  prev_contacts  \\\n",
       "0        0      0            1       2.0        999              0   \n",
       "1        0      6            4       2.0        999              0   \n",
       "2        0      7            0       1.0        999              0   \n",
       "3        0      6            4       4.0        999              0   \n",
       "4        0      3            2       8.0        999              0   \n",
       "\n",
       "   prev_outcomes  emp_var_rate  cons_price_idx  cons_conf_idx  euribor3m  \\\n",
       "0              1     -1.695118       92.698705     -46.727552   1.345160   \n",
       "1              1     -1.767159       92.914878     -46.313088   1.314499   \n",
       "2              1     -0.100365       93.423076     -41.904559   4.003471   \n",
       "3              1     -1.771314       93.672814     -46.045500   1.261668   \n",
       "4              1      1.458103       94.296285     -42.455877   5.152077   \n",
       "\n",
       "   nr_employed  subscribed  \n",
       "0       5097.0           0  \n",
       "1       5100.0           0  \n",
       "2       5193.0           0  \n",
       "3       5100.0           0  \n",
       "4       5233.0           0  "
      ]
     },
     "execution_count": 7,
     "metadata": {},
     "output_type": "execute_result"
    }
   ],
   "source": [
    "#write code below, you can make multiple cells\n",
    "\n",
    "def clean1(df):\n",
    "    '''\n",
    "    Initial clean up to help with visualization\n",
    "    '''\n",
    "    df = df.drop('duration', axis=1)\n",
    "    # clean text categorical variables\n",
    "    text_categ = ['job', 'marital_status', 'education', 'credit_default', 'housing', 'loan', 'month',\n",
    "                 'day_of_week', 'prev_outcomes', 'subscribed', 'contact']\n",
    "\n",
    "    df_clean = df.copy()\n",
    "    \n",
    "    for i in text_categ:\n",
    "        df_clean[i] = df[i].astype('category').cat.codes\n",
    "    \n",
    "    return df_clean\n",
    "\n",
    "\n",
    "df_clean = clean1(df)\n",
    "print(df_clean.shape)\n",
    "print(df_clean.columns.tolist())\n",
    "df_clean.head()\n"
   ]
  },
  {
   "cell_type": "code",
   "execution_count": 8,
   "metadata": {
    "collapsed": false
   },
   "outputs": [
    {
     "name": "stdout",
     "output_type": "stream",
     "text": [
      "count    32950.000000\n",
      "mean       961.537906\n",
      "std        189.209917\n",
      "min          0.000000\n",
      "25%        999.000000\n",
      "50%        999.000000\n",
      "75%        999.000000\n",
      "max        999.000000\n",
      "Name: prev_days, dtype: float64\n",
      "('percent of feauture missing', 0.9622761760242792)\n"
     ]
    }
   ],
   "source": [
    "print(df['prev_days'].describe())\n",
    "# print(df_clean['prev_days'].replace(999, 0))\n",
    "print('percent of feauture missing', len(df_clean[df_clean['prev_days'] == 999])/float(len(df_clean)))\n",
    "# print(df[df['prev_days'] != 999].describe())"
   ]
  },
  {
   "cell_type": "code",
   "execution_count": 9,
   "metadata": {
    "collapsed": false
   },
   "outputs": [
    {
     "name": "stdout",
     "output_type": "stream",
     "text": [
      "(32950, 19)\n"
     ]
    }
   ],
   "source": [
    "y = np.array(df_clean['subscribed'])\n",
    "X = np.array(df_clean.drop('subscribed', axis=1))\n",
    "print(X.shape)"
   ]
  },
  {
   "cell_type": "code",
   "execution_count": 10,
   "metadata": {
    "collapsed": false
   },
   "outputs": [
    {
     "data": {
      "image/png": "[encoded data removed]",
      "text/plain": [
       "<matplotlib.figure.Figure at 0x11803d350>"
      ]
     },
     "metadata": {},
     "output_type": "display_data"
    }
   ],
   "source": [
    "plt.boxplot(X)\n",
    "plt.xticks(np.arange(1, X.shape[1] + 1), df.columns.tolist(), rotation=30, ha=\"right\");"
   ]
  },
  {
   "cell_type": "code",
   "execution_count": 11,
   "metadata": {
    "collapsed": false
   },
   "outputs": [
    {
     "data": {
      "image/png": "[encoded data removed]",
      "text/plain": [
       "<matplotlib.figure.Figure at 0x11c87e1d0>"
      ]
     },
     "metadata": {},
     "output_type": "display_data"
    }
   ],
   "source": [
    "plt.boxplot(X)\n",
    "plt.ylim([-100,100])\n",
    "plt.xticks(np.arange(1, X.shape[1] + 1), df_clean.columns.tolist(), rotation=30, ha=\"right\");"
   ]
  },
  {
   "cell_type": "code",
   "execution_count": 12,
   "metadata": {
    "collapsed": false
   },
   "outputs": [
    {
     "data": {
      "image/png": "[encoded data removed]",
      "text/plain": [
       "<matplotlib.figure.Figure at 0x11cde07d0>"
      ]
     },
     "metadata": {},
     "output_type": "display_data"
    }
   ],
   "source": [
    "fig, axes = plt.subplots(4, 5, figsize=(20, 10))\n",
    "for i, ax in enumerate(axes.ravel()):\n",
    "    if i > 17:\n",
    "        ax.set_visible(False)\n",
    "        continue\n",
    "    ax.plot(X[:, i], y, 'o', alpha=.5)\n",
    "    ax.set_title(\"{}: {}\".format(i, df_clean.columns.tolist()[i]))\n",
    "    ax.set_ylabel(\"SUBS\")"
   ]
  },
  {
   "cell_type": "code",
   "execution_count": 13,
   "metadata": {
    "collapsed": false
   },
   "outputs": [
    {
     "name": "stdout",
     "output_type": "stream",
     "text": [
      "(\"No's\", 0.88734446130500755)\n",
      "(\"Yes's\", 0.11265553869499241)\n",
      "('prev contacts', 0.17438543247344462)\n"
     ]
    },
    {
     "data": {
      "image/png": "[encoded data removed]",
      "text/plain": [
       "<matplotlib.figure.Figure at 0x11803dc90>"
      ]
     },
     "metadata": {},
     "output_type": "display_data"
    }
   ],
   "source": [
    "print(\"No's\", np.sum(df['subscribed']== 'no') / float(len(df)))\n",
    "print(\"Yes's\", np.sum(df['subscribed']== 'yes') / float(len(df)))\n",
    "print(\"prev contacts\", df['prev_contacts'].mean())\n",
    "\n",
    "day = df.groupby(['day_of_week']).count()\n",
    "day = day.reset_index()\n",
    "sns.barplot(x=\"day_of_week\", y=\"subscribed\", data=day);"
   ]
  },
  {
   "cell_type": "code",
   "execution_count": 14,
   "metadata": {
    "collapsed": false
   },
   "outputs": [
    {
     "data": {
      "image/png": "[encoded data removed]",
      "text/plain": [
       "<matplotlib.figure.Figure at 0x11cdd6bd0>"
      ]
     },
     "metadata": {},
     "output_type": "display_data"
    }
   ],
   "source": [
    "month = df.groupby(['month']).count()\n",
    "month = month.reset_index()\n",
    "sns.barplot(x=\"month\", y=\"subscribed\", data=month);"
   ]
  },
  {
   "cell_type": "code",
   "execution_count": 15,
   "metadata": {
    "collapsed": false
   },
   "outputs": [
    {
     "data": {
      "image/png": "[encoded data removed]",
      "text/plain": [
       "<matplotlib.figure.Figure at 0x11cdd6290>"
      ]
     },
     "metadata": {},
     "output_type": "display_data"
    }
   ],
   "source": [
    "sns.boxplot(y=\"cons_conf_idx\", x=\"subscribed\", hue=\"housing\", data=df);"
   ]
  },
  {
   "cell_type": "code",
   "execution_count": 16,
   "metadata": {
    "collapsed": false
   },
   "outputs": [
    {
     "data": {
      "image/png": "[encoded data removed]",
      "text/plain": [
       "<matplotlib.figure.Figure at 0x11cdd6850>"
      ]
     },
     "metadata": {},
     "output_type": "display_data"
    }
   ],
   "source": [
    "sns.boxplot(y=\"cons_price_idx\", x=\"subscribed\", data=df);"
   ]
  },
  {
   "cell_type": "code",
   "execution_count": 17,
   "metadata": {
    "collapsed": false
   },
   "outputs": [
    {
     "data": {
      "image/png": "[encoded data removed]",
      "text/plain": [
       "<matplotlib.figure.Figure at 0x11f63c650>"
      ]
     },
     "metadata": {},
     "output_type": "display_data"
    }
   ],
   "source": [
    "sns.boxplot(y=\"age\", x=\"subscribed\", data=df);"
   ]
  },
  {
   "cell_type": "code",
   "execution_count": 18,
   "metadata": {
    "collapsed": false
   },
   "outputs": [
    {
     "data": {
      "image/png": "[encoded data removed]",
      "text/plain": [
       "<matplotlib.figure.Figure at 0x11f174f90>"
      ]
     },
     "metadata": {},
     "output_type": "display_data"
    }
   ],
   "source": [
    "sns.stripplot(y=\"age\", x=\"subscribed\", hue=\"loan\", data=df);"
   ]
  },
  {
   "cell_type": "code",
   "execution_count": 19,
   "metadata": {
    "collapsed": false,
    "scrolled": true
   },
   "outputs": [
    {
     "name": "stdout",
     "output_type": "stream",
     "text": [
      "(32950, 61)\n"
     ]
    }
   ],
   "source": [
    "#write code below, you can make multiple cells\n",
    "\n",
    "def clean_master(df, holdout=False):\n",
    "    '''\n",
    "    now completely clean for making models\n",
    "    '''\n",
    "    df = df.drop('duration', axis=1)\n",
    "    # clean text categorical variables\n",
    "    text_categ = ['job', 'marital_status', 'education', 'credit_default', 'housing', 'loan', 'month',\n",
    "                 'day_of_week', 'prev_outcomes']\n",
    "    \n",
    "    text_categ_binary = ['subscribed', 'contact']\n",
    "\n",
    "    df_clean = df.copy()\n",
    "    \n",
    "    for i in text_categ:\n",
    "        df_clean = pd.get_dummies(df_clean, columns=[i])\n",
    "    \n",
    "    for i in text_categ_binary:\n",
    "        if holdout:\n",
    "            if i != 'subscribed':\n",
    "                df_clean[i] = df_clean[i].astype('category').cat.codes\n",
    "        else:\n",
    "            df_clean[i] = df_clean[i].astype('category').cat.codes\n",
    "    \n",
    "    # 'prev_days' 999 = no previous contact\n",
    "#     print(len(df_clean[df_clean['prev_days'] == 999])/float(len(df_clean)))\n",
    "    # 96% of the data is 999 so just going to remove it\n",
    "    df_clean = df_clean.drop('prev_days', axis=1)\n",
    "    \n",
    "    # noticed holdout had no yes's so just adding the column to make same as training\n",
    "    if holdout:\n",
    "        df_clean['credit_default_yes'] = [0] * len(df_clean)\n",
    "    \n",
    "    return df_clean\n",
    "\n",
    "df_clean2 = clean_master(df)\n",
    "print(df_clean2.shape)\n",
    "# print(df_clean2.columns.tolist())\n",
    "# print(df_clean2.head())"
   ]
  },
  {
   "cell_type": "code",
   "execution_count": 20,
   "metadata": {
    "collapsed": false
   },
   "outputs": [],
   "source": [
    "# y = np.array(df_clean2['subscribed'])\n",
    "# X = np.array(df_clean2.drop('subscribed', axis=1))\n",
    "y = df_clean2['subscribed']\n",
    "X = df_clean2.drop('subscribed', axis=1)\n",
    "X_train, X_test, y_train, y_test = train_test_split(X, y, test_size=0.2, random_state=seed, stratify=y)"
   ]
  },
  {
   "cell_type": "markdown",
   "metadata": {},
   "source": [
    "# Step2 - ModelSet1 [35 points]\n",
    "\n",
    "In this step, we expect you to perform the following steps relevant to the models you choose for set1:\n",
    "\n",
    "* feature engineering\n",
    "* validation\n",
    "* feature selection\n",
    "* final model selection\n",
    "\n",
    "You may select up to 5 models in this step for the purpose of final ensemble. Any classification algorithm covered in class apart from tree-based models can be tested here."
   ]
  },
  {
   "cell_type": "code",
   "execution_count": 155,
   "metadata": {
    "collapsed": true
   },
   "outputs": [],
   "source": [
    "#write code below, you can make multiple cells\n",
    "cv = 5\n",
    "\n",
    "def auc_scores(model, X_train=X_train, y_train=y_train, X_test=X_test, y_test=y_test):\n",
    "    print(\"ROC AUC scores\")\n",
    "    probas_ = model.fit(X_train, y_train).predict_proba(X_test)\n",
    "    score = roc_auc_score(y_test,  probas_[:, 1])\n",
    "    print('test score', score)\n",
    "    \n",
    "    proba = cross_val_predict(model, X_train, y_train, cv=cv, method='predict_proba')\n",
    "    print('cv train score', roc_auc_score(y_train,  proba[:, 1]))\n",
    "    \n",
    "    return score"
   ]
  },
  {
   "cell_type": "code",
   "execution_count": null,
   "metadata": {
    "collapsed": true
   },
   "outputs": [],
   "source": []
  },
  {
   "cell_type": "code",
   "execution_count": null,
   "metadata": {
    "collapsed": false
   },
   "outputs": [],
   "source": []
  },
  {
   "cell_type": "code",
   "execution_count": null,
   "metadata": {
    "collapsed": false
   },
   "outputs": [],
   "source": []
  },
  {
   "cell_type": "code",
   "execution_count": 156,
   "metadata": {
    "collapsed": false
   },
   "outputs": [
    {
     "name": "stdout",
     "output_type": "stream",
     "text": [
      "GNB\n",
      "('accuracy score', 0.7014795144157816)\n",
      "ROC AUC scores\n",
      "('test score', 0.78822925616055983)\n",
      "('cv train score', 0.76207029681163929)\n",
      "\n",
      "\n",
      "LDA\n",
      "('accuracy score', 0.88979514415781491)\n",
      "ROC AUC scores\n",
      "('test score', 0.79592327277554287)\n",
      "('cv train score', 0.78671447264435723)\n",
      "\n",
      "\n",
      "LR\n",
      "('accuracy score', 0.89874810318664644)\n",
      "ROC AUC scores\n",
      "('test score', 0.79925451971047312)\n",
      "('cv train score', 0.78891572127142884)\n",
      "\n",
      "\n"
     ]
    }
   ],
   "source": [
    "LR = LogisticRegression(C=10, random_state=seed)\n",
    "# SGD = SGDClassifier()\n",
    "LDA = LinearDiscriminantAnalysis()\n",
    "# SV = SVC()\n",
    "# knn = KNeighborsClassifier(n_neighbors=2)\n",
    "GNB = GaussianNB()\n",
    "\n",
    "model_dict = {'LR':LR,'LDA':LDA, 'GNB': GNB}\n",
    "for i in model_dict.keys():\n",
    "    print(i)\n",
    "    pipe = make_pipeline(StandardScaler(), model_dict[i])\n",
    "    print('accuracy score', cross_val_score(pipe, X_train, y_train, cv=cv).mean())\n",
    "    try:\n",
    "        score = auc_scores(pipe)\n",
    "    except:\n",
    "        print('*** model didnt work ***')\n",
    "    print('\\n')\n",
    "    "
   ]
  },
  {
   "cell_type": "code",
   "execution_count": 23,
   "metadata": {
    "collapsed": false
   },
   "outputs": [
    {
     "name": "stdout",
     "output_type": "stream",
     "text": [
      "{'C': 10}\n",
      "0.899696509863\n"
     ]
    }
   ],
   "source": [
    "# seems LDA and LR work best\n",
    "LR = LogisticRegression(penalty='l2', C=10)\n",
    "# pipe = make_pipeline(StandardScaler(), LR)\n",
    "param_grid = {'C': [0.001, 0.01, 0.1, 1, 10, 100, 1000] }\n",
    "grid = GridSearchCV(LR, param_grid, cv=10)\n",
    "grid.fit(X_train, y_train)\n",
    "print(grid.best_params_)\n",
    "print(grid.score(X_test, y_test))\n",
    "# C = 10"
   ]
  },
  {
   "cell_type": "code",
   "execution_count": null,
   "metadata": {
    "collapsed": false
   },
   "outputs": [],
   "source": []
  },
  {
   "cell_type": "code",
   "execution_count": 546,
   "metadata": {
    "collapsed": false
   },
   "outputs": [
    {
     "name": "stdout",
     "output_type": "stream",
     "text": [
      "{'solver': 'svd'}\n",
      "0.893626707132\n"
     ]
    }
   ],
   "source": [
    "LDA = LinearDiscriminantAnalysis(solver='svd', shrinkage=None, priors=None, n_components=None, \n",
    "                                 store_covariance=False, tol=0.0001)\n",
    "pipe = make_pipeline(StandardScaler(), LDA)\n",
    "param_grid = {'solver': ['svd', 'lsqr']}\n",
    "grid = GridSearchCV(LDA, param_grid, cv=10)\n",
    "grid.fit(X_train, y_train)\n",
    "print(grid.best_params_)\n",
    "print(grid.score(X_test, y_test))"
   ]
  },
  {
   "cell_type": "code",
   "execution_count": 157,
   "metadata": {
    "collapsed": false
   },
   "outputs": [],
   "source": [
    "# KNN = KNeighborsClassifier()\n",
    "# knn_pipe = make_pipeline(StandardScaler(), KNN)\n",
    "# param_grid = {'n_neighbors': range(1, 10)}\n",
    "# grid = GridSearchCV(KNN, param_grid, cv=10)\n",
    "# grid.fit(X_train, y_train)\n",
    "# print(grid.best_params_)\n",
    "# print(grid.score(X_test, y_test))"
   ]
  },
  {
   "cell_type": "code",
   "execution_count": 150,
   "metadata": {
    "collapsed": false
   },
   "outputs": [
    {
     "name": "stdout",
     "output_type": "stream",
     "text": [
      "((26360, 30), (26360, 60))\n",
      "0.7911815893\n",
      "('all', 0.79019552803221038)\n"
     ]
    }
   ],
   "source": [
    "# feature selection\n",
    "\n",
    "from sklearn.feature_selection import SelectFromModel\n",
    "select_LR = SelectFromModel(LogisticRegression(penalty='l2', C=10), threshold=\"median\")\n",
    "select_LR.fit(X_train, y_train)\n",
    "X_train_FS = select_LR.transform(X_train)\n",
    "X_test_FS = select_LR.transform(X_test)\n",
    "print(X_train_FS.shape, X_train.shape)\n",
    "\n",
    "pipe_LR = make_pipeline(StandardScaler(), select_LR, LogisticRegression(penalty='l2', C=10))\n",
    "print(np.mean(cross_val_score(pipe_LR, X_train, y_train, cv=10, scoring='roc_auc')))\n",
    "\n",
    "pipe_LR_all = make_pipeline(StandardScaler(), LogisticRegression(penalty='l2', C=10))\n",
    "print('all', np.mean(cross_val_score(pipe_LR_all, X_train, y_train, cv=10, scoring='roc_auc')))"
   ]
  },
  {
   "cell_type": "code",
   "execution_count": 154,
   "metadata": {
    "collapsed": false
   },
   "outputs": [
    {
     "name": "stdout",
     "output_type": "stream",
     "text": [
      "0.803483163779\n",
      "0.802538523088\n"
     ]
    }
   ],
   "source": [
    "## just playing around with the limited features\n",
    "LR = LogisticRegression(C=10)\n",
    "LDA = LinearDiscriminantAnalysis()\n",
    "knn = KNeighborsClassifier(n_neighbors=6)\n",
    "\n",
    "\n",
    "model = make_pipeline(StandardScaler(), PolynomialFeatures(degree=2, interaction_only=True), LR)\n",
    "# model = make_pipeline(StandardScaler(), LR)\n",
    "probas_ = model.fit(X_train_FS, y_train).predict_proba(X_test_FS)\n",
    "print(roc_auc_score(y_test,  probas_[:, 1]))\n",
    "probas1 = np.array(probas_[:, 1])\n",
    "\n",
    "model = make_pipeline(StandardScaler(), PolynomialFeatures(degree=2, interaction_only=True), LDA)\n",
    "# model = make_pipeline(StandardScaler(), LDA)\n",
    "probas_ = model.fit(X_train_FS, y_train).predict_proba(X_test_FS)\n",
    "print(roc_auc_score(y_test,  probas_[:, 1]))\n",
    "probas2 = np.array(probas_[:, 1])\n",
    "\n",
    "\n",
    "# low score\n",
    "# model = make_pipeline(StandardScaler(), knn)\n",
    "# probas_ = model.fit(X_train_FS, y_train).predict_proba(X_test_FS)\n",
    "# print(roc_auc_score(y_test,  probas_[:, 1]))\n",
    "# probas3 = np.array(probas_[:, 1])"
   ]
  },
  {
   "cell_type": "code",
   "execution_count": 158,
   "metadata": {
    "collapsed": false
   },
   "outputs": [
    {
     "name": "stdout",
     "output_type": "stream",
     "text": [
      "(6590, 6590)\n",
      "6590\n",
      "0.8042897611\n",
      "6590\n",
      "0.803911582184\n",
      "6590\n",
      "0.804056308789\n"
     ]
    }
   ],
   "source": [
    "print(len(probas1), len(probas2))\n",
    "probas = (probas1 + probas2) / 2. \n",
    "print(len(probas))\n",
    "avg = roc_auc_score(y_test,  probas)\n",
    "print(avg)\n",
    "\n",
    "w1 = .8\n",
    "w2 = .2\n",
    "probas = probas1 * w1 + probas2 * w2\n",
    "print(len(probas))\n",
    "print(roc_auc_score(y_test,  probas))\n",
    "\n",
    "probas = probas1 * w2 + probas2 * w1\n",
    "print(len(probas))\n",
    "print(roc_auc_score(y_test,  probas))\n"
   ]
  },
  {
   "cell_type": "code",
   "execution_count": 160,
   "metadata": {
    "collapsed": false
   },
   "outputs": [
    {
     "name": "stdout",
     "output_type": "stream",
     "text": [
      "LR new changes:\n",
      "ROC AUC scores\n",
      "('test score', 0.80348316377889462)\n",
      "('cv train score', 0.7818774750497709)\n",
      "LR NO changes:\n",
      "ROC AUC scores\n",
      "('test score', 0.79663400024336206)\n",
      "('cv train score', 0.78406011087071359)\n",
      "LDA new changes:\n",
      "ROC AUC scores\n",
      "('test score', 0.80253852308804163)\n",
      "('cv train score', 0.77855878148738356)\n",
      "LDA NO changes:\n",
      "ROC AUC scores\n",
      "('test score', 0.79592327277554287)\n",
      "('cv train score', 0.78671447264435723)\n"
     ]
    },
    {
     "data": {
      "text/plain": [
       "0.79592327277554287"
      ]
     },
     "execution_count": 160,
     "metadata": {},
     "output_type": "execute_result"
    }
   ],
   "source": [
    "# double check improvements\n",
    "pipe = make_pipeline(StandardScaler(), PolynomialFeatures(degree=2, interaction_only=True), LR)\n",
    "print('LR new changes:')\n",
    "auc_scores(pipe, X_train=X_train_FS, X_test=X_test_FS)\n",
    "print('LR NO changes:')\n",
    "auc_scores(LR)\n",
    "\n",
    "pipe = make_pipeline(StandardScaler(), PolynomialFeatures(degree=2, interaction_only=True), LDA)\n",
    "print('LDA new changes:')\n",
    "auc_scores(pipe, X_train=X_train_FS, X_test=X_test_FS)\n",
    "print('LDA NO changes:')\n",
    "auc_scores(LDA)"
   ]
  },
  {
   "cell_type": "code",
   "execution_count": null,
   "metadata": {
    "collapsed": true
   },
   "outputs": [],
   "source": [
    "# almost no changes by removing 30 features, will keep"
   ]
  },
  {
   "cell_type": "markdown",
   "metadata": {},
   "source": [
    "# Step3 - ModelSet2 [35 points]\n",
    "\n",
    "In this step, we expect you to perform the following steps relevant to the models you choose for set2:\n",
    "\n",
    "* feature engineering\n",
    "* validation\n",
    "* feature selection\n",
    "* final model selection\n",
    "\n",
    "You may select up to 5 models in this step for the purpose of final ensemble. We encourage you to try decition tree, random forest and gradient boosted tree methods here and pick the one which you think works best."
   ]
  },
  {
   "cell_type": "code",
   "execution_count": 136,
   "metadata": {
    "collapsed": true
   },
   "outputs": [],
   "source": [
    "def modelfit(alg, X_train, y_train, features, performCV=True, printFeatureImportance=True, cv_folds=5):\n",
    "    '''\n",
    "    used from Aarshay's article\n",
    "    '''\n",
    "    #Fit the algorithm on the data\n",
    "    alg.fit(X_train, y_train)\n",
    "        \n",
    "    #Predict training set:\n",
    "    dtrain_predictions = alg.predict(X_train)\n",
    "    dtrain_predprob = alg.predict_proba(X_train)[:,1]\n",
    "    \n",
    "    #Perform cross-validation:\n",
    "    if performCV:\n",
    "        cv_score = cross_val_score(alg, X_train, y_train, cv=cv_folds, scoring='roc_auc')\n",
    "    \n",
    "    #Print model report:\n",
    "    print(\"\\nModel Report\")\n",
    "    print(\"Accuracy : %.4g\" % accuracy_score(y_train.values, dtrain_predictions))\n",
    "    print(\"AUC Score (Train): %f\" % roc_auc_score(y_train, dtrain_predprob))\n",
    "    \n",
    "    if performCV:\n",
    "        print(\"CV Score : Mean - %.7g | Std - %.7g | Min - %.7g | Max - %.7g\" % (np.mean(cv_score),np.std(cv_score),np.min(cv_score),np.max(cv_score)))\n",
    "        \n",
    "    #Print Feature Importance:\n",
    "    if printFeatureImportance:\n",
    "        feat_imp = pd.Series(alg.feature_importances_, features).sort_values(ascending=False)\n",
    "        feat_imp.plot(kind='bar', title='Feature Importances')\n",
    "        plt.ylabel('Feature Importance Score')"
   ]
  },
  {
   "cell_type": "code",
   "execution_count": null,
   "metadata": {
    "collapsed": false
   },
   "outputs": [],
   "source": []
  },
  {
   "cell_type": "code",
   "execution_count": 161,
   "metadata": {
    "collapsed": false,
    "scrolled": true
   },
   "outputs": [
    {
     "name": "stdout",
     "output_type": "stream",
     "text": [
      "DT\n",
      "('accuracy score', 0.83490136570561457)\n",
      "ROC AUC scores\n",
      "('test score', 0.61947250378870278)\n",
      "('cv train score', 0.6104483627784183)\n",
      "\n",
      "\n",
      "RF\n",
      "('accuracy score', 0.89055386949924142)\n",
      "ROC AUC scores\n",
      "('test score', 0.74751130158074641)\n",
      "('cv train score', 0.74296673446737582)\n",
      "\n",
      "\n",
      "GB\n",
      "('accuracy score', 0.89852048558421838)\n",
      "ROC AUC scores\n",
      "('test score', 0.80186155747950794)\n",
      "('cv train score', 0.79113441670517348)\n",
      "\n",
      "\n"
     ]
    }
   ],
   "source": [
    "#write code below, you can make multiple cells\n",
    "DT = DecisionTreeClassifier()\n",
    "RF = RandomForestClassifier()\n",
    "GB = GradientBoostingClassifier() # does better than RF\n",
    "model_dict = {'DT':DT, 'RF':RF, 'GB':GB}\n",
    "\n",
    "for i in model_dict.keys():\n",
    "    print(i)\n",
    "    print('accuracy score', cross_val_score(model_dict[i], X_train_FS, y_train, cv=cv).mean())\n",
    "    auc_scores(model_dict[i], X_train=X_train_FS, X_test=X_test_FS)\n",
    "    print('\\n')"
   ]
  },
  {
   "cell_type": "markdown",
   "metadata": {},
   "source": [
    "### Commented out all grid search code below because it was taking to long with travis"
   ]
  },
  {
   "cell_type": "code",
   "execution_count": 184,
   "metadata": {
    "collapsed": false
   },
   "outputs": [
    {
     "name": "stdout",
     "output_type": "stream",
     "text": [
      "({'n_estimators': 96}, 0.77702113769877768)\n"
     ]
    }
   ],
   "source": [
    "# for RF\n",
    "# param_grid = {'n_estimators': range(1, 100, 5)}\n",
    "# gsearch_rf = GridSearchCV(estimator = RandomForestClassifier(random_state=seed), \n",
    "#                         param_grid = param_grid, scoring='roc_auc',n_jobs=4,iid=False, cv=5)\n",
    "# gsearch_rf.fit(X_train, y_train)\n",
    "\n",
    "# print(gsearch_rf.best_params_, gsearch_rf.best_score_)"
   ]
  },
  {
   "cell_type": "code",
   "execution_count": 187,
   "metadata": {
    "collapsed": false
   },
   "outputs": [
    {
     "name": "stdout",
     "output_type": "stream",
     "text": [
      "({'max_features': 6}, 0.77169950178714608)\n"
     ]
    }
   ],
   "source": [
    "# # for RF\n",
    "# param_grid = {'max_features':range(1, 30, 5)}\n",
    "# gsearch_rf = GridSearchCV(estimator = RandomForestClassifier(n_estimators=96, random_state=seed), \n",
    "#                         param_grid = param_grid, scoring='roc_auc',n_jobs=4,iid=False, cv=5)\n",
    "# gsearch_rf.fit(X_train_FS, y_train)\n",
    "\n",
    "# print(gsearch_rf.best_params_, gsearch_rf.best_score_)"
   ]
  },
  {
   "cell_type": "code",
   "execution_count": 188,
   "metadata": {
    "collapsed": false
   },
   "outputs": [
    {
     "name": "stdout",
     "output_type": "stream",
     "text": [
      "\n",
      "Model Report\n",
      "Accuracy : 1\n",
      "AUC Score (Train): 1.000000\n",
      "CV Score : Mean - 0.7735979 | Std - 0.006235963 | Min - 0.7652793 | Max - 0.782124\n"
     ]
    },
    {
     "data": {
      "image/png": "[encoded data removed]",
      "text/plain": [
       "<matplotlib.figure.Figure at 0x11f5172d0>"
      ]
     },
     "metadata": {},
     "output_type": "display_data"
    }
   ],
   "source": [
    "RF_F = RandomForestClassifier(max_features=6, n_estimators=96, random_state=seed)\n",
    "\n",
    "modelfit(RF_F, X_train, y_train, X_train.columns.tolist())"
   ]
  },
  {
   "cell_type": "code",
   "execution_count": 189,
   "metadata": {
    "collapsed": false
   },
   "outputs": [
    {
     "name": "stdout",
     "output_type": "stream",
     "text": [
      "('test score', 0.77864699521756919)\n"
     ]
    }
   ],
   "source": [
    "# pipe = make_pipeline(StandardScaler(), gbm_tuned_3)\n",
    "\n",
    "X_train_or = np.array(X_train_FS).copy(order='C') \n",
    "probas_ = RF_F.fit(X_train_or, y_train).predict_proba(X_test_FS)\n",
    "print('test score', roc_auc_score(y_test,  probas_[:, 1]))\n"
   ]
  },
  {
   "cell_type": "code",
   "execution_count": 489,
   "metadata": {
    "collapsed": false
   },
   "outputs": [
    {
     "name": "stdout",
     "output_type": "stream",
     "text": [
      "{'n_estimators': 60} 0.793955336463\n"
     ]
    }
   ],
   "source": [
    "# for GB\n",
    "\n",
    "# param_test1 = {'n_estimators':range(20,81,10)}\n",
    "# gsearch1 = GridSearchCV(estimator = GradientBoostingClassifier(learning_rate=0.1, min_samples_split=500,\n",
    "#                                                                min_samples_leaf=50,max_depth=8,max_features='sqrt',\n",
    "#                                                                subsample=0.8,random_state=seed), \n",
    "#                         param_grid = param_test1, scoring='roc_auc',n_jobs=4,iid=False, cv=5)\n",
    "# gsearch1.fit(X_train, y_train)\n",
    "\n",
    "# print(gsearch1.best_params_, gsearch1.best_score_)"
   ]
  },
  {
   "cell_type": "code",
   "execution_count": 490,
   "metadata": {
    "collapsed": false
   },
   "outputs": [
    {
     "name": "stdout",
     "output_type": "stream",
     "text": [
      "{'min_samples_split': 1000, 'max_depth': 7} 0.79642297278\n"
     ]
    }
   ],
   "source": [
    "# param_test2 = {'max_depth':range(5,16,2)}\n",
    "# gsearch2 = GridSearchCV(estimator = GradientBoostingClassifier(learning_rate=0.1, n_estimators=60, \n",
    "#                                                                max_features='sqrt', subsample=0.8, \n",
    "#                                                                random_state=seed), \n",
    "#                         param_grid = param_test2, scoring='roc_auc',n_jobs=4,iid=False, cv=5)\n",
    "# gsearch2.fit(X_train, y_train)\n",
    "\n",
    "# print(gsearch2.best_params_, gsearch2.best_score_)"
   ]
  },
  {
   "cell_type": "code",
   "execution_count": 492,
   "metadata": {
    "collapsed": false
   },
   "outputs": [
    {
     "name": "stdout",
     "output_type": "stream",
     "text": [
      "{'min_samples_split': 1200, 'min_samples_leaf': 30} 0.79642297278\n"
     ]
    }
   ],
   "source": [
    "# param_test3 = {'min_samples_split':range(1000,2100,200), 'min_samples_leaf':range(30,71,10)}\n",
    "# gsearch3 = GridSearchCV(estimator = GradientBoostingClassifier(learning_rate=0.1, n_estimators=60,\n",
    "#                                                                max_depth=7,max_features='sqrt', subsample=0.8, \n",
    "#                                                                random_state=seed), \n",
    "#                         param_grid = param_test3, scoring='roc_auc',n_jobs=4,iid=False, cv=5)\n",
    "# gsearch3.fit(X_train, y_train)\n",
    "\n",
    "# print(gsearch3.best_params_, gsearch3.best_score_)"
   ]
  },
  {
   "cell_type": "code",
   "execution_count": 493,
   "metadata": {
    "collapsed": false
   },
   "outputs": [
    {
     "name": "stdout",
     "output_type": "stream",
     "text": [
      "{'max_features': 7} 0.79642297278\n"
     ]
    }
   ],
   "source": [
    "# param_test4 = {'max_features':range(7,20,2)}\n",
    "# gsearch4 = GridSearchCV(estimator = GradientBoostingClassifier(learning_rate=0.1, n_estimators=60,\n",
    "#                                                                max_depth=7, min_samples_split=1200, \n",
    "#                                                                min_samples_leaf=30, subsample=0.8, \n",
    "#                                                                random_state=seed),\n",
    "#                     param_grid = param_test4, scoring='roc_auc',n_jobs=4,iid=False, cv=5)\n",
    "# gsearch4.fit(X_train, y_train)\n",
    "\n",
    "# print(gsearch4.best_params_, gsearch4.best_score_)"
   ]
  },
  {
   "cell_type": "code",
   "execution_count": 163,
   "metadata": {
    "collapsed": false
   },
   "outputs": [
    {
     "name": "stdout",
     "output_type": "stream",
     "text": [
      "({'subsample': 0.8}, 0.79571757909722862)\n"
     ]
    }
   ],
   "source": [
    "# param_test5 = {'subsample':[0.6,0.7,0.75,0.8,0.85,0.9]}\n",
    "# gsearch5 = GridSearchCV(estimator = GradientBoostingClassifier(learning_rate=0.1, n_estimators=60,\n",
    "#                                                                max_depth=7, min_samples_split=1200, \n",
    "#                                                                min_samples_leaf=30, subsample=0.8, \n",
    "#                                                                random_state=seed, max_features=7),\n",
    "#                         param_grid = param_test5, scoring='roc_auc',n_jobs=4,iid=False, cv=5)\n",
    "# gsearch5.fit(X_train, y_train)\n",
    "\n",
    "# print(gsearch5.best_params_, gsearch5.best_score_)"
   ]
  },
  {
   "cell_type": "code",
   "execution_count": null,
   "metadata": {
    "collapsed": false
   },
   "outputs": [],
   "source": [
    "# modelfit(gsearch5.best_estimator_, X_train, y_train, X_train.columns.tolist())"
   ]
  },
  {
   "cell_type": "code",
   "execution_count": 22,
   "metadata": {
    "collapsed": false
   },
   "outputs": [
    {
     "name": "stdout",
     "output_type": "stream",
     "text": [
      "{'learning_rate': 0.1} 0.795717579097\n"
     ]
    }
   ],
   "source": [
    "# param_test6 = {'learning_rate':[.2, .1, .05, .02, .01, .001, .005]}\n",
    "# gsearch6 = GridSearchCV(estimator = GradientBoostingClassifier(n_estimators=60,\n",
    "#                                                                max_depth=7, min_samples_split=1200, \n",
    "#                                                                min_samples_leaf=30, subsample=0.8, \n",
    "#                                                                random_state=seed, max_features=7),\n",
    "#                         param_grid = param_test6, scoring='roc_auc',n_jobs=4,iid=False, cv=5)\n",
    "# gsearch6.fit(X_train, y_train)\n",
    "\n",
    "# print(gsearch6.best_params_, gsearch6.best_score_)"
   ]
  },
  {
   "cell_type": "code",
   "execution_count": 172,
   "metadata": {
    "collapsed": false
   },
   "outputs": [
    {
     "name": "stdout",
     "output_type": "stream",
     "text": [
      "\n",
      "Model Report\n",
      "Accuracy : 0.9359\n",
      "AUC Score (Train): 0.929789\n",
      "CV Score : Mean - 0.7719402 | Std - 0.004480989 | Min - 0.7637973 | Max - 0.7768234\n"
     ]
    },
    {
     "data": {
      "image/png": "[encoded data removed]",
      "text/plain": [
       "<matplotlib.figure.Figure at 0x12b618bd0>"
      ]
     },
     "metadata": {},
     "output_type": "display_data"
    }
   ],
   "source": [
    "gbm_tunedF = GradientBoostingClassifier(learning_rate=0.1, n_estimators=1200,\n",
    "                                           max_depth=7, min_samples_split=1200, \n",
    "                                           min_samples_leaf=30, subsample=0.8, \n",
    "                                           random_state=seed, max_features=7)\n",
    "\n",
    "modelfit(gbm_tunedF, X_train, y_train, X_train.columns.tolist())\n"
   ]
  },
  {
   "cell_type": "code",
   "execution_count": 170,
   "metadata": {
    "collapsed": false
   },
   "outputs": [],
   "source": []
  },
  {
   "cell_type": "code",
   "execution_count": 169,
   "metadata": {
    "collapsed": false
   },
   "outputs": [],
   "source": []
  },
  {
   "cell_type": "code",
   "execution_count": 174,
   "metadata": {
    "collapsed": false
   },
   "outputs": [],
   "source": []
  },
  {
   "cell_type": "code",
   "execution_count": 176,
   "metadata": {
    "collapsed": false
   },
   "outputs": [
    {
     "name": "stdout",
     "output_type": "stream",
     "text": [
      "('test score', 0.79012959944837957)\n"
     ]
    }
   ],
   "source": [
    "# pipe = make_pipeline(StandardScaler(), gbm_tuned_3)\n",
    "\n",
    "X_train_or = np.array(X_train_FS).copy(order='C') \n",
    "probas_ = gbm_tunedF.fit(X_train_or, y_train).predict_proba(X_test_FS)\n",
    "print('test score', roc_auc_score(y_test,  probas_[:, 1]))\n"
   ]
  },
  {
   "cell_type": "markdown",
   "metadata": {
    "collapsed": false
   },
   "source": [
    "# Step4 - Ensemble [20 points + 10 Bonus points]\n",
    "In this step, we expect you to use the models created before and create new predictions. You should definitely try poor man's stacking but we encourage you to think of different ensemble techniques as well. We will judge your creativity and improvement in model performance using ensemble models and you can potentially earn 10 bonus points here."
   ]
  },
  {
   "cell_type": "code",
   "execution_count": 245,
   "metadata": {
    "collapsed": false
   },
   "outputs": [
    {
     "data": {
      "text/plain": [
       "Pipeline(steps=[('standardscaler', StandardScaler(copy=True, with_mean=True, with_std=True)), ('votingclassifier', VotingClassifier(estimators=[('logreg', LogisticRegression(C=10, class_weight=None, dual=False, fit_intercept=True,\n",
       "          intercept_scaling=1, max_iter=100, multi_class='ovr', n_jobs=1,\n",
       "    ...    subsample=0.8, verbose=0, warm_start=False))],\n",
       "         n_jobs=1, voting='soft', weights=None))])"
      ]
     },
     "execution_count": 245,
     "metadata": {},
     "output_type": "execute_result"
    }
   ],
   "source": [
    "#write code below, you can make multiple cells\n",
    "\n",
    "# poor mans stacking\n",
    "voting = VotingClassifier([('logreg', LogisticRegression(penalty='l2', C=10)),\n",
    "                           ('lda', LinearDiscriminantAnalysis(solver='svd', shrinkage=None, priors=None, \n",
    "                                                              n_components=None, store_covariance=False, tol=0.0001)),\n",
    "                           ('rf', RF_F),\n",
    "                           ('gbc', gbm_tunedF)\n",
    "                          ],\n",
    "                         voting='soft')\n",
    "\n",
    "# param_grid = {'weights':list(permutations(range(1,4), 3))}\n",
    "# voting = GridSearchCV(estimator=voting, \n",
    "#                         param_grid= param_grid, scoring='roc_auc',n_jobs=4,iid=False, cv=5)\n",
    "# votingP = make_pipeline(StandardScaler(), PolynomialFeatures(degree=2, interaction_only=True), voting)\n",
    "votingP = make_pipeline(StandardScaler(), voting)\n",
    "\n",
    "votingP.fit(X_train_FS, y_train)\n",
    "# lr, lda, gbc = voting.estimators_\n"
   ]
  },
  {
   "cell_type": "code",
   "execution_count": null,
   "metadata": {
    "collapsed": false
   },
   "outputs": [],
   "source": []
  },
  {
   "cell_type": "code",
   "execution_count": 246,
   "metadata": {
    "collapsed": false
   },
   "outputs": [
    {
     "name": "stdout",
     "output_type": "stream",
     "text": [
      "('auc', 0.79676144262004933)\n"
     ]
    }
   ],
   "source": [
    "# print((\"{:.2f} \" * 4).format(voting.score(X_test, y_test),\n",
    "#                              lr.score(X_test, y_test), lda.score(X_test, y_test), gbc.score(X_test, y_test)))\n",
    "# print(voting.best_params_)\n",
    "# print(voting.score(X_test, y_test))\n",
    "auc_score = roc_auc_score(y_test, votingP.predict_proba(X_test_FS)[:,1])\n",
    "print('auc', auc_score)"
   ]
  },
  {
   "cell_type": "code",
   "execution_count": 240,
   "metadata": {
    "collapsed": false,
    "scrolled": true
   },
   "outputs": [],
   "source": [
    "# Couldn't get to work\n",
    "\n",
    "# we need to reshape the result from votingclassifier.transform because\n",
    "# of some annoyance in sklearn. We then keep only the probabilities of the positive classes!\n",
    "\n",
    "# reshaper = FunctionTransformer(lambda X_: np.rollaxis(X_, 1).reshape(-1, 6)[:, 1::2], validate=False)\n",
    "# stacking = make_pipeline(voting, reshaper, LogisticRegression(C=100))\n",
    "# stacking.fit(X_train, y_train)\n",
    "# print('auc', roc_auc_score(y_test, stacking.predict_proba(X_test)[:,1]))\n",
    "\n",
    "\n",
    "# first_stage = make_pipeline(voting, reshaper)\n",
    "# transform_cv = cross_val_predict(voting, X_train, y_train, cv=10)\n",
    "# second_stage = LogisticRegression(C=100).fit(transform_cv, y_train, method=\"transform\")\n",
    "# prob = second_stage.predict_proba(X_test_FS)"
   ]
  },
  {
   "cell_type": "code",
   "execution_count": null,
   "metadata": {
    "collapsed": false
   },
   "outputs": [],
   "source": []
  },
  {
   "cell_type": "code",
   "execution_count": 205,
   "metadata": {
    "collapsed": false,
    "scrolled": true
   },
   "outputs": [],
   "source": [
    "# trying to do voting with uncorrelated submissions, doesn't work to well, so not used\n",
    "\n",
    "df1 = pd.read_csv('./data/submission_68.csv')\n",
    "df2 = pd.read_csv('./data/submission_78.csv')\n",
    "df3 = pd.read_csv('./data/submission_739.csv')\n",
    "\n",
    "# print(np.corrcoef(df1['subscribed'], df2['subscribed']))\n",
    "\n",
    "def prob_voting(prob1, prob2, prob3):\n",
    "    prob_maj = []\n",
    "    for a,b,c in zip(prob1, prob2, prob3):\n",
    "        if (a > .5 and b > .5 and c < .5) or (a < .5 and b < .5 and c > .5):\n",
    "            prob_avg = np.mean([a,b])\n",
    "        elif (a > .5 and b < .5 and c > .5) or (a < .5 and b > .5 and c < .5):\n",
    "            prob_avg = np.mean([a,c])\n",
    "        elif (a < .5 and b > .5 and c > .5) or (a > .5 and b < .5 and c < .5):\n",
    "            prob_avg = np.mean([b,c])\n",
    "        else:\n",
    "            prob_avg = np.mean([a,b,c])\n",
    "        prob_maj.append(prob_avg)\n",
    "    \n",
    "    return prob_maj\n",
    "\n",
    "# try it with two most uncorrelated\n",
    "# prob_maj = []\n",
    "# for a,b in zip(df1['subscribed'], df2['subscribed']):\n",
    "#         prob_maj.append(np.mean([a,b]))\n",
    "\n",
    "prob_maj = prob_voting(df1['subscribed'], df2['subscribed'], df3['subscribed'])        \n",
    "\n",
    "out = pd.DataFrame()\n",
    "out['ID'] = df1['ID']\n",
    "out['subscribed'] = prob_maj\n",
    "out.to_csv('submission.csv', index=False)\n"
   ]
  },
  {
   "cell_type": "markdown",
   "metadata": {},
   "source": [
    "# Bonus"
   ]
  },
  {
   "cell_type": "code",
   "execution_count": 259,
   "metadata": {
    "collapsed": false
   },
   "outputs": [
    {
     "name": "stdout",
     "output_type": "stream",
     "text": [
      "0.786108627964\n"
     ]
    }
   ],
   "source": [
    "# under sampling, does ok to equal\n",
    "under_sam = make_imb_pipeline(RandomUnderSampler(), votingP)\n",
    "score = np.mean(cross_val_score(under_sam, X_train_FS, y_train, cv=10, scoring='roc_auc'))\n",
    "print(score)"
   ]
  },
  {
   "cell_type": "code",
   "execution_count": 264,
   "metadata": {
    "collapsed": false
   },
   "outputs": [],
   "source": [
    "# over sampling with SMOTE, took to long and performed equal to before\n",
    "# over_sam = make_imb_pipeline(SMOTE(), votingP)\n",
    "# score = np.mean(cross_val_score(over_sam, X_train_FS, y_train, cv=10, scoring='roc_auc'))\n",
    "# print(score)"
   ]
  },
  {
   "cell_type": "code",
   "execution_count": 207,
   "metadata": {
    "collapsed": false
   },
   "outputs": [],
   "source": [
    "def easyE(X, y, X_test, model):\n",
    "    ee = EasyEnsemble(n_subsets=3, random_state=seed)\n",
    "    X_resampled, y_resampled = ee.fit_sample(X, y)\n",
    "    \n",
    "    probs = []\n",
    "    for i in range(len(X_resampled)):\n",
    "        print(i)\n",
    "        X_trainR, X_testR, y_trainR, y_testR = train_test_split(X_resampled[i], y_resampled[i], test_size=0.2, \n",
    "                                                        random_state=seed)\n",
    "        X_trainR_FS = select_LR.transform(X_trainR)\n",
    "        X_testR_FS = select_LR.transform(X_testR)\n",
    "        \n",
    "        model.fit(X_trainR_FS, y_trainR)\n",
    "        print('auc', roc_auc_score(y_testR, voting.predict_proba(X_testR_FS)[:,1]))\n",
    "        pro = voting.predict_proba(X_test)[:,1]\n",
    "        probs.append(pro)\n",
    "    \n",
    "    probsF_avg = (probs[0] + probs[1] + probs[2]) / 3.\n",
    "   \n",
    "    probF_maj = prob_voting(probs[0], probs[1], probs[2])\n",
    "    \n",
    "    return probsF_avg, probF_maj\n",
    "                    "
   ]
  },
  {
   "cell_type": "code",
   "execution_count": 244,
   "metadata": {
    "collapsed": false
   },
   "outputs": [
    {
     "name": "stdout",
     "output_type": "stream",
     "text": [
      "0\n",
      "('auc', 0.78627766277517253)\n",
      "1\n",
      "('auc', 0.78760009167870249)\n",
      "2\n",
      "('auc', 0.8050135880934105)\n",
      "('auc overall avg', 0.78952326871951062)\n",
      "('auc overall maj', 0.78667021876762977)\n"
     ]
    }
   ],
   "source": [
    "probsF_avg, probF_maj = easyE(X, y, X_test_FS, votingP)\n",
    "auc_score_A = roc_auc_score(y_test, probsF_avg)\n",
    "auc_score_M = roc_auc_score(y_test, probF_maj)\n",
    "print('auc overall avg', auc_score_A)\n",
    "print('auc overall maj', auc_score_M)"
   ]
  },
  {
   "cell_type": "markdown",
   "metadata": {},
   "source": [
    "### Final Model Chosen, still just voting classifier"
   ]
  },
  {
   "cell_type": "code",
   "execution_count": 247,
   "metadata": {
    "collapsed": false
   },
   "outputs": [
    {
     "name": "stdout",
     "output_type": "stream",
     "text": [
      "0.79676144262\n"
     ]
    }
   ],
   "source": [
    "prob = votingP.fit(X_train_FS, y_train).predict_proba(X_test_FS)[:,1]\n",
    "auc_score = roc_auc_score(y_test, prob)\n",
    "print(auc_score)"
   ]
  },
  {
   "cell_type": "code",
   "execution_count": 257,
   "metadata": {
    "collapsed": true
   },
   "outputs": [],
   "source": [
    "assert auc_score >= .78"
   ]
  },
  {
   "cell_type": "markdown",
   "metadata": {},
   "source": [
    "# Kaggle Submissions"
   ]
  },
  {
   "cell_type": "code",
   "execution_count": 254,
   "metadata": {
    "collapsed": false
   },
   "outputs": [],
   "source": [
    "def kaggle(model, fit=False, EE=False, avg=False):\n",
    "    holdout = pd.read_csv('./data/holdout.csv')\n",
    "    X_test = clean_master(holdout, holdout=True)\n",
    "    X_test = X_test.drop('ID', axis=1)\n",
    "    # use the feature selection\n",
    "    X_test = select_LR.transform(X_test)\n",
    "    if not fit:\n",
    "        model = make_pipeline(StandardScaler(), model)\n",
    "        model.fit(X_train_FS, y_train)\n",
    "    if EE:\n",
    "        probs_avg, probF_maj = easyE(X, y, X_test, model)\n",
    "        if avg:\n",
    "            probas = probs_avg\n",
    "        else:\n",
    "            probas = probF_maj\n",
    "    else:\n",
    "        probas = model.predict_proba(X_test)[:, 1]\n",
    "        \n",
    "    out = pd.DataFrame()\n",
    "    out['ID'] = holdout['ID']\n",
    "    out['subscribed'] = probas\n",
    "    out.to_csv('submission.csv', index=False)"
   ]
  },
  {
   "cell_type": "code",
   "execution_count": 256,
   "metadata": {
    "collapsed": false
   },
   "outputs": [
    {
     "name": "stdout",
     "output_type": "stream",
     "text": [
      "0\n",
      "('auc', 0.78627766277517253)\n",
      "1\n",
      "('auc', 0.78760009167870249)\n",
      "2\n",
      "('auc', 0.80296536946153318)\n"
     ]
    }
   ],
   "source": [
    "kaggle(votingP, fit=False, EE=True, avg=False)"
   ]
  },
  {
   "cell_type": "code",
   "execution_count": null,
   "metadata": {
    "collapsed": false
   },
   "outputs": [],
   "source": []
  },
  {
   "cell_type": "code",
   "execution_count": null,
   "metadata": {
    "collapsed": false
   },
   "outputs": [],
   "source": []
  },
  {
   "cell_type": "code",
   "execution_count": null,
   "metadata": {
    "collapsed": false
   },
   "outputs": [],
   "source": []
  },
  {
   "cell_type": "code",
   "execution_count": null,
   "metadata": {
    "collapsed": false
   },
   "outputs": [],
   "source": []
  },
  {
   "cell_type": "code",
   "execution_count": 36,
   "metadata": {
    "collapsed": false
   },
   "outputs": [],
   "source": []
  },
  {
   "cell_type": "code",
   "execution_count": null,
   "metadata": {
    "collapsed": true
   },
   "outputs": [],
   "source": []
  }
 ],
 "metadata": {
  "anaconda-cloud": {},
  "kernelspec": {
   "display_name": "Python [default]",
   "language": "python",
   "name": "python3"
  }
 },
 "nbformat": 4,
 "nbformat_minor": 2
}
