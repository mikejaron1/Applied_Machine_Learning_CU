{
 "cells": [
  {
   "cell_type": "markdown",
   "metadata": {},
   "source": [
    "# Homework 4: Modeling Text Data\n",
    "\n",
    "### Team Member 1:\n",
    "* UNI: mj2776\n",
    "* Name: Mike Jaron\n",
    "\n",
    "### Team Member 2 [optional]:\n",
    "* UNI:  \n",
    "* Name:\n"
   ]
  },
  {
   "cell_type": "markdown",
   "metadata": {},
   "source": [
    "You can find the data here: https://data.boston.gov/dataset/vision-zero-entry"
   ]
  },
  {
   "cell_type": "markdown",
   "metadata": {},
   "source": [
    "# Task1 - Data Cleaning  [10 points]"
   ]
  },
  {
   "cell_type": "markdown",
   "metadata": {},
   "source": [
    "Load the data, visualize the class distribution. Clean up the target labels. Some categories have been arbitrarily split and need to be consolidated. "
   ]
  },
  {
   "cell_type": "code",
   "execution_count": 2,
   "metadata": {
    "collapsed": false
   },
   "outputs": [
    {
     "name": "stderr",
     "output_type": "stream",
     "text": [
      "/Users/mikejaron/anaconda/lib/python2.7/site-packages/matplotlib/font_manager.py:273: UserWarning: Matplotlib is building the font cache using fc-list. This may take a moment.\n",
      "  warnings.warn('Matplotlib is building the font cache using fc-list. This may take a moment.')\n"
     ]
    }
   ],
   "source": [
    "# Add your code for task 1 here. You may use multiple cells. \n",
    "import pandas as pd\n",
    "import numpy as np\n",
    "import datetime\n",
    "import matplotlib.pyplot as plt\n",
    "%matplotlib inline\n",
    "\n",
    "seed = 7"
   ]
  },
  {
   "cell_type": "code",
   "execution_count": 3,
   "metadata": {
    "collapsed": false,
    "scrolled": false
   },
   "outputs": [
    {
     "name": "stdout",
     "output_type": "stream",
     "text": [
      "(8533, 11)\n"
     ]
    },
    {
     "data": {
      "text/html": [
       "<div>\n",
       "<table border=\"1\" class=\"dataframe\">\n",
       "  <thead>\n",
       "    <tr style=\"text-align: right;\">\n",
       "      <th></th>\n",
       "      <th>﻿X</th>\n",
       "      <th>Y</th>\n",
       "      <th>OBJECTID</th>\n",
       "      <th>GLOBALID</th>\n",
       "      <th>REQUESTID</th>\n",
       "      <th>REQUESTTYPE</th>\n",
       "      <th>REQUESTDATE</th>\n",
       "      <th>STATUS</th>\n",
       "      <th>STREETSEGID</th>\n",
       "      <th>COMMENTS</th>\n",
       "      <th>USERTYPE</th>\n",
       "    </tr>\n",
       "  </thead>\n",
       "  <tbody>\n",
       "    <tr>\n",
       "      <th>0</th>\n",
       "      <td>-71.071329</td>\n",
       "      <td>42.332161</td>\n",
       "      <td>15607</td>\n",
       "      <td>NaN</td>\n",
       "      <td>15607.0</td>\n",
       "      <td>bike facilities don't exist or need improvement</td>\n",
       "      <td>2016-01-19T22:14:26.000Z</td>\n",
       "      <td>Unassigned</td>\n",
       "      <td>0</td>\n",
       "      <td>the roadway is super wide here with no lane ma...</td>\n",
       "      <td>bikes</td>\n",
       "    </tr>\n",
       "    <tr>\n",
       "      <th>1</th>\n",
       "      <td>-71.067764</td>\n",
       "      <td>42.374244</td>\n",
       "      <td>15608</td>\n",
       "      <td>NaN</td>\n",
       "      <td>15608.0</td>\n",
       "      <td>the wait for the \"Walk\" signal is too long</td>\n",
       "      <td>2016-01-19T22:55:29.000Z</td>\n",
       "      <td>Unassigned</td>\n",
       "      <td>0</td>\n",
       "      <td>As someone who walks from SE of the intersecti...</td>\n",
       "      <td>walks</td>\n",
       "    </tr>\n",
       "    <tr>\n",
       "      <th>2</th>\n",
       "      <td>-71.066077</td>\n",
       "      <td>42.374768</td>\n",
       "      <td>15609</td>\n",
       "      <td>NaN</td>\n",
       "      <td>15609.0</td>\n",
       "      <td>people cross away from the crosswalks</td>\n",
       "      <td>2016-01-19T22:57:09.000Z</td>\n",
       "      <td>Unassigned</td>\n",
       "      <td>0</td>\n",
       "      <td>I'm one of those people. Many people walk nort...</td>\n",
       "      <td>walks</td>\n",
       "    </tr>\n",
       "    <tr>\n",
       "      <th>3</th>\n",
       "      <td>-71.152978</td>\n",
       "      <td>42.345312</td>\n",
       "      <td>16007</td>\n",
       "      <td>NaN</td>\n",
       "      <td>16007.0</td>\n",
       "      <td>people speed</td>\n",
       "      <td>2016-01-19T23:33:20.000Z</td>\n",
       "      <td>Unassigned</td>\n",
       "      <td>0</td>\n",
       "      <td>NaN</td>\n",
       "      <td>walks</td>\n",
       "    </tr>\n",
       "    <tr>\n",
       "      <th>4</th>\n",
       "      <td>-71.070658</td>\n",
       "      <td>42.351921</td>\n",
       "      <td>16008</td>\n",
       "      <td>NaN</td>\n",
       "      <td>16008.0</td>\n",
       "      <td>people don't yield while turning</td>\n",
       "      <td>2016-01-19T23:39:45.000Z</td>\n",
       "      <td>Unassigned</td>\n",
       "      <td>0</td>\n",
       "      <td>People do not understand which lane to move in...</td>\n",
       "      <td>drives</td>\n",
       "    </tr>\n",
       "  </tbody>\n",
       "</table>\n",
       "</div>"
      ],
      "text/plain": [
       "          ﻿X          Y  OBJECTID  GLOBALID  REQUESTID  \\\n",
       "0 -71.071329  42.332161     15607       NaN    15607.0   \n",
       "1 -71.067764  42.374244     15608       NaN    15608.0   \n",
       "2 -71.066077  42.374768     15609       NaN    15609.0   \n",
       "3 -71.152978  42.345312     16007       NaN    16007.0   \n",
       "4 -71.070658  42.351921     16008       NaN    16008.0   \n",
       "\n",
       "                                       REQUESTTYPE               REQUESTDATE  \\\n",
       "0  bike facilities don't exist or need improvement  2016-01-19T22:14:26.000Z   \n",
       "1       the wait for the \"Walk\" signal is too long  2016-01-19T22:55:29.000Z   \n",
       "2            people cross away from the crosswalks  2016-01-19T22:57:09.000Z   \n",
       "3                                     people speed  2016-01-19T23:33:20.000Z   \n",
       "4                 people don't yield while turning  2016-01-19T23:39:45.000Z   \n",
       "\n",
       "       STATUS  STREETSEGID                                           COMMENTS  \\\n",
       "0  Unassigned            0  the roadway is super wide here with no lane ma...   \n",
       "1  Unassigned            0  As someone who walks from SE of the intersecti...   \n",
       "2  Unassigned            0  I'm one of those people. Many people walk nort...   \n",
       "3  Unassigned            0                                                NaN   \n",
       "4  Unassigned            0  People do not understand which lane to move in...   \n",
       "\n",
       "  USERTYPE  \n",
       "0    bikes  \n",
       "1    walks  \n",
       "2    walks  \n",
       "3    walks  \n",
       "4   drives  "
      ]
     },
     "execution_count": 3,
     "metadata": {},
     "output_type": "execute_result"
    }
   ],
   "source": [
    "# get data\n",
    "df = pd.read_csv('./Vision_Zero_Entry.csv')\n",
    "print(df.shape)\n",
    "df.head()"
   ]
  },
  {
   "cell_type": "code",
   "execution_count": 4,
   "metadata": {
    "collapsed": false
   },
   "outputs": [],
   "source": [
    "# realized we were just using text so no need for this\n",
    "\n",
    "# print(set(df_og['STREETSEGID']), set(df_og['STATUS']), #set(df_og['GLOBALID']))\n",
    "# the above all have the same value so I will remove\n",
    "# df = df_og.drop('STREETSEGID', axis=1)\n",
    "# df = df.drop('STATUS', axis=1)\n",
    "# df = df.drop('GLOBALID', axis=1)\n",
    "# print(df.shape)\n",
    "# df.head()"
   ]
  },
  {
   "cell_type": "code",
   "execution_count": 5,
   "metadata": {
    "collapsed": false
   },
   "outputs": [],
   "source": [
    "# realized we were just using text so no need for this\n",
    "\n",
    "# convert dates\n",
    "# time_format = \"%Y-%m-%dT%H:%M:%S.000Z\"\n",
    "# epoch = [int(datetime.datetime.strptime(i, time_format).strftime('%s')) for i in df['REQUESTDATE']]\n",
    "# df['epoch'] = epoch\n",
    "# df = df.drop('REQUESTDATE', axis=1)"
   ]
  },
  {
   "cell_type": "code",
   "execution_count": 6,
   "metadata": {
    "collapsed": false
   },
   "outputs": [
    {
     "name": "stdout",
     "output_type": "stream",
     "text": [
      "28\n"
     ]
    },
    {
     "data": {
      "text/plain": [
       "{'\" src=\"images/01 - Not enough time to cross.png\"></span>&nbsp;there\\'s not enough time to cross the street',\n",
       " '\" src=\"images/02 - Wait is too long.png\"></span>&nbsp;the wait for the \"Walk\" signal is too long',\n",
       " '\" src=\"images/06 - Speeding.png\"></span>&nbsp;people speed',\n",
       " '\" src=\"images/10 - Hard to see.png\"></span>&nbsp;it\\xe2\\x80\\x99s hard to see / low visibility',\n",
       " '\" src=\"images/11 - Sidewalk issue.png\"></span>&nbsp;sidewalks/ramps don\\'t exist or need improvement',\n",
       " '\" src=\"images/12 - Bike facility issue.png\"></span>&nbsp;the roadway surface needs improvement',\n",
       " '\" src=\"images/14 - Other issue.png\"></span>&nbsp;of something that is not listed here',\n",
       " \"bike facilities don't exist or need improvement\",\n",
       " \"it's too far / too many lanes to cross\",\n",
       " 'it\\xe2\\x80\\x99s hard for people to see each other',\n",
       " 'it\\xe2\\x80\\x99s hard to see / low visibility',\n",
       " 'of something that is not listed here',\n",
       " 'people are not given enough time to cross the street',\n",
       " 'people cross away from the crosswalks',\n",
       " \"people don't yield while going straight\",\n",
       " \"people don't yield while turning\",\n",
       " 'people double park their vehicles',\n",
       " 'people have to cross too many lanes / too far',\n",
       " 'people have to wait too long for the \"Walk\" signal',\n",
       " 'people run red lights / stop signs',\n",
       " 'people speed',\n",
       " \"sidewalks/ramps don't exist or need improvement\",\n",
       " 'the roadway surface needs improvement',\n",
       " 'the roadway surface needs maintenance',\n",
       " 'the wait for the \"Walk\" signal is too long',\n",
       " 'there are no bike facilities or they need maintenance',\n",
       " 'there are no sidewalks or they need maintenance',\n",
       " \"there's not enough time to cross the street\"}"
      ]
     },
     "execution_count": 6,
     "metadata": {},
     "output_type": "execute_result"
    }
   ],
   "source": [
    "print(len(set(df['REQUESTTYPE'])))\n",
    "set(df['REQUESTTYPE'])"
   ]
  },
  {
   "cell_type": "code",
   "execution_count": 7,
   "metadata": {
    "collapsed": false
   },
   "outputs": [
    {
     "name": "stdout",
     "output_type": "stream",
     "text": [
      "(13, 8533)\n",
      "set(['people speed', 'people double park their vehicles', 'bike facilities dont exist or need improvement', 'hard to see / low visibility', 'people cross away from the crosswalks', \"people don't yield while\", 'other', 'the roadway surface needs improvement', 'too many lanes to cross', 'people run red lights / stop signs', 'not enough time to cross the street', 'wait for the \"walk\" signal is too long', 'sidewalks/ramps dont exist or need improvement'])\n",
      "(8533, 11)\n",
      "(8533, 11)\n"
     ]
    }
   ],
   "source": [
    "# duplicate items\n",
    "# create new list of options\n",
    "dupli = ['enough time to cross the street', 'the roadway surface needs', 'for the \"walk\" signal',\n",
    "        \"people don't yield while\", 'something that is not listed here', 'people speed',\n",
    "         \"sidewalks\", 'hard to see / low visibility', 'too many lanes',\n",
    "        'bike facilities', 'to see']\n",
    "\n",
    "# combine duplicates and clean up text\n",
    "new_text = []\n",
    "for i in df['REQUESTTYPE']:\n",
    "    new = i.lower()\n",
    "    for j in dupli:\n",
    "        if j in new:\n",
    "            new = j\n",
    "            break\n",
    "    if new == 'the roadway surface needs':\n",
    "        new = 'the roadway surface needs improvement'\n",
    "    if new == 'enough time to cross the street':\n",
    "        new = 'not enough time to cross the street'\n",
    "    if new == \"sidewalks\":\n",
    "        new = 'sidewalks/ramps dont exist or need improvement'\n",
    "    if new == 'it\\xe2\\x80\\x99s hard for people to see each other':\n",
    "        new = 'its hard for people to see each other'   \n",
    "    if new == 'too many lanes':\n",
    "        new = 'too many lanes to cross'\n",
    "    if new == 'for the \"walk\" signal':\n",
    "        new = 'wait for the \"walk\" signal is too long' \n",
    "    if new == 'bike facilities':\n",
    "        new = 'bike facilities dont exist or need improvement'\n",
    "    if new == 'to see':\n",
    "        new = 'hard to see / low visibility'\n",
    "    if new == 'something that is not listed here':\n",
    "        new = 'other'\n",
    "    new_text.append(new)\n",
    "\n",
    "print(len(set(new_text)), len(new_text))\n",
    "print(set(new_text))\n",
    "    \n",
    "df['REQUESTTYPE_new'] = new_text\n",
    "try:\n",
    "    df = df.drop('REQUESTTYPE', axis=1)\n",
    "except:\n",
    "    pass\n",
    "\n",
    "# drop any duplicates\n",
    "print(df.shape)\n",
    "df = df.drop_duplicates()\n",
    "print(df.shape)\n",
    "\n",
    "# df.head()"
   ]
  },
  {
   "cell_type": "code",
   "execution_count": 8,
   "metadata": {
    "collapsed": false
   },
   "outputs": [
    {
     "data": {
      "image/png": "[encoded data removed]",
      "text/plain": [
       "<matplotlib.figure.Figure at 0x118b67a90>"
      ]
     },
     "metadata": {},
     "output_type": "display_data"
    }
   ],
   "source": [
    "req_plt = df.groupby(['REQUESTTYPE_new'])['OBJECTID'].count()\n",
    "req_plt = req_plt.reset_index()\n",
    "# req_plt\n",
    "y_pos = np.arange(len(req_plt)) \n",
    "plt.barh(y_pos, req_plt['OBJECTID'], align='center', alpha=0.5)\n",
    "plt.yticks(y_pos, req_plt['REQUESTTYPE_new']);"
   ]
  },
  {
   "cell_type": "code",
   "execution_count": 9,
   "metadata": {
    "collapsed": false
   },
   "outputs": [
    {
     "data": {
      "text/plain": [
       "(6646, 11)"
      ]
     },
     "execution_count": 9,
     "metadata": {},
     "output_type": "execute_result"
    }
   ],
   "source": [
    "# get rid of any NaN values for comments\n",
    "df = df.dropna(subset=['COMMENTS'])\n",
    "df.shape"
   ]
  },
  {
   "cell_type": "code",
   "execution_count": 10,
   "metadata": {
    "collapsed": false
   },
   "outputs": [
    {
     "data": {
      "image/png": "[encoded data removed]",
      "text/plain": [
       "<matplotlib.figure.Figure at 0x117d1bfd0>"
      ]
     },
     "metadata": {},
     "output_type": "display_data"
    }
   ],
   "source": [
    "# plot without the NaN's\n",
    "req_plt = df.groupby(['REQUESTTYPE_new'])['OBJECTID'].count()\n",
    "req_plt = req_plt.reset_index()\n",
    "# req_plt\n",
    "y_pos = np.arange(len(req_plt)) \n",
    "plt.barh(y_pos, req_plt['OBJECTID'], align='center', alpha=0.5)\n",
    "plt.yticks(y_pos, req_plt['REQUESTTYPE_new']);"
   ]
  },
  {
   "cell_type": "markdown",
   "metadata": {},
   "source": [
    "# Task2 - Model 1 [10 points]"
   ]
  },
  {
   "cell_type": "markdown",
   "metadata": {},
   "source": [
    "Run a baseline multi-class classification model using a bag-of-word approach, report macro f1-score (should be above .5) and visualize the confusion matrix. Can you interpret the mistakes made by the model? "
   ]
  },
  {
   "cell_type": "code",
   "execution_count": 11,
   "metadata": {
    "collapsed": true
   },
   "outputs": [],
   "source": [
    "# Add your code for task 2 here. You may use multiple cells. \n",
    "from sklearn.feature_extraction.text import CountVectorizer, TfidfTransformer, TfidfVectorizer\n",
    "\n",
    "from sklearn.metrics import classification_report, f1_score, confusion_matrix\n",
    "from sklearn.model_selection import train_test_split\n",
    "\n",
    "from sklearn.linear_model import LogisticRegression"
   ]
  },
  {
   "cell_type": "code",
   "execution_count": 12,
   "metadata": {
    "collapsed": false
   },
   "outputs": [
    {
     "name": "stdout",
     "output_type": "stream",
     "text": [
      "((6646,), (6646,))\n"
     ]
    },
    {
     "data": {
      "text/plain": [
       "((5316,), (1330,), (5316,), (1330,))"
      ]
     },
     "execution_count": 12,
     "metadata": {},
     "output_type": "execute_result"
    }
   ],
   "source": [
    "y = df['REQUESTTYPE_new']\n",
    "X = df['COMMENTS']\n",
    "print(X.shape, y.shape)\n",
    "X_train_text, X_test_text, y_train, y_test = train_test_split(X, y, test_size=0.20, stratify=y, random_state=seed)\n",
    "X_train_text.shape, X_test_text.shape, y_train.shape, y_test.shape"
   ]
  },
  {
   "cell_type": "code",
   "execution_count": 16,
   "metadata": {
    "collapsed": false
   },
   "outputs": [
    {
     "data": {
      "text/plain": [
       "((5316, 5982), (1330, 5982))"
      ]
     },
     "execution_count": 16,
     "metadata": {},
     "output_type": "execute_result"
    }
   ],
   "source": [
    "count_vect = CountVectorizer()\n",
    "X_train = count_vect.fit_transform(X_train_text)\n",
    "X_test = count_vect.transform(X_test_text)\n",
    "X_train.shape, X_test.shape\n",
    "# count_vect.get_feature_names()[::100]"
   ]
  },
  {
   "cell_type": "code",
   "execution_count": 320,
   "metadata": {
    "collapsed": false
   },
   "outputs": [],
   "source": [
    "# gave lower f1 score\n",
    "\n",
    "# tfidf = TfidfTransformer()\n",
    "# X_train = tfidf.fit_transform(X_train)\n",
    "# X_test = tfidf.transform(X_test)\n",
    "# X_train_tf.shape, X_test_tf.shape"
   ]
  },
  {
   "cell_type": "code",
   "execution_count": 15,
   "metadata": {
    "collapsed": false
   },
   "outputs": [
    {
     "data": {
      "text/plain": [
       "0.58721804511278197"
      ]
     },
     "execution_count": 15,
     "metadata": {},
     "output_type": "execute_result"
    }
   ],
   "source": [
    "lr = LogisticRegression().fit(X_train, y_train)\n",
    "pred = lr.predict(X_test)\n",
    "lr.score(X_test, y_test)"
   ]
  },
  {
   "cell_type": "code",
   "execution_count": 114,
   "metadata": {
    "collapsed": false
   },
   "outputs": [
    {
     "data": {
      "text/plain": [
       "0.55359841597826243"
      ]
     },
     "execution_count": 114,
     "metadata": {},
     "output_type": "execute_result"
    }
   ],
   "source": [
    "score = f1_score(y_test, pred, average='macro')\n",
    "score"
   ]
  },
  {
   "cell_type": "code",
   "execution_count": 115,
   "metadata": {
    "collapsed": true
   },
   "outputs": [],
   "source": [
    "assert score > .54"
   ]
  },
  {
   "cell_type": "code",
   "execution_count": 92,
   "metadata": {
    "collapsed": false
   },
   "outputs": [
    {
     "name": "stdout",
     "output_type": "stream",
     "text": [
      "                                                precision    recall  f1-score   support\n",
      "\n",
      "                                  people speed       0.66      0.67      0.67       182\n",
      "sidewalks/ramps dont exist or need improvement       0.60      0.57      0.59        84\n",
      "bike facilities dont exist or need improvement       0.43      0.23      0.30        26\n",
      "         people cross away from the crosswalks       0.48      0.52      0.50       285\n",
      "                  hard to see / low visibility       0.60      0.55      0.57        51\n",
      "             people double park their vehicles       0.51      0.49      0.50       145\n",
      "                       too many lanes to cross       0.76      0.73      0.74        85\n",
      "                      people don't yield while       0.69      0.70      0.69       133\n",
      "                                         other       0.66      0.68      0.67       149\n",
      "         the roadway surface needs improvement       0.51      0.54      0.52        69\n",
      "        wait for the \"walk\" signal is too long       0.59      0.57      0.58        51\n",
      "            people run red lights / stop signs       0.40      0.18      0.25        22\n",
      "           not enough time to cross the street       0.57      0.65      0.61        48\n",
      "\n",
      "                                   avg / total       0.59      0.59      0.59      1330\n",
      "\n"
     ]
    }
   ],
   "source": [
    "print(classification_report(y_test, pred, target_names=list(set(y_test))))"
   ]
  },
  {
   "cell_type": "code",
   "execution_count": 18,
   "metadata": {
    "collapsed": false
   },
   "outputs": [
    {
     "name": "stdout",
     "output_type": "stream",
     "text": [
      "[[119   0   0  30   1  10   5   0   5   3   5   3   1]\n",
      " [  2  50   0  15   0   5   2   4   5   1   0   0   0]\n",
      " [  0   0   6   4   0   3   0   3   4   0   0   1   5]\n",
      " [ 24  14   1 146  10  27  11  13  18  15   0   2   4]\n",
      " [  2   1   0  10  27   5   1   1   1   1   1   1   0]\n",
      " [  6   5   0  26   2  74   0  17   8   3   0   0   4]\n",
      " [  3   1   0  17   0   1  62   0   0   0   1   0   0]\n",
      " [  2   1   0  14   1   5   0  96  13   0   0   0   1]\n",
      " [  7   8   0  10   0  10   2   3 107   1   0   1   0]\n",
      " [  4   1   0  14   5   1   0   0   1  39   3   0   1]\n",
      " [ 14   0   0   7   2   0   0   0   3   1  24   0   0]\n",
      " [  0   2   2   4   2   5   0   0   1   1   0   3   2]\n",
      " [  1   0   3   8   0   4   0   2   0   1   0   1  28]]\n"
     ]
    },
    {
     "data": {
      "image/png": "[encoded data removed]",
      "text/plain": [
       "<matplotlib.figure.Figure at 0x11b154d90>"
      ]
     },
     "metadata": {},
     "output_type": "display_data"
    }
   ],
   "source": [
    "# confusion_matrix(y_test, pred, labels=list(set(y_test)))\n",
    "import itertools\n",
    "def plot_confusion_matrix(cm, classes,\n",
    "                          title='Confusion matrix',\n",
    "                          cmap=plt.cm.Blues):\n",
    "    \"\"\"\n",
    "    This function prints and plots the confusion matrix.\n",
    "    Normalization can be applied by setting `normalize=True`.\n",
    "    \"\"\"\n",
    "    plt.imshow(cm, interpolation='nearest', cmap=cmap)\n",
    "    plt.title(title)\n",
    "    plt.colorbar()\n",
    "    tick_marks = np.arange(len(classes))\n",
    "    plt.xticks(tick_marks, classes, rotation=90)\n",
    "    plt.yticks(tick_marks, classes)\n",
    "\n",
    "    print(cm)\n",
    "\n",
    "    thresh = cm.max() / 2.\n",
    "    for i, j in itertools.product(range(cm.shape[0]), range(cm.shape[1])):\n",
    "        plt.text(j, i, cm[i, j],\n",
    "                 horizontalalignment=\"center\",\n",
    "                 color=\"white\" if cm[i, j] > thresh else \"black\")\n",
    "\n",
    "#     plt.tight_layout()\n",
    "    plt.ylabel('True label')\n",
    "    plt.xlabel('Predicted label')\n",
    "\n",
    "# Compute confusion matrix\n",
    "cnf_matrix = confusion_matrix(y_test, pred)\n",
    "np.set_printoptions(precision=2)\n",
    "\n",
    "# Plot non-normalized confusion matrix\n",
    "plt.figure()\n",
    "plot_confusion_matrix(cnf_matrix, classes=list(set(y_test)),\n",
    "                      title='Confusion matrix')\n",
    "\n",
    "\n",
    "plt.show()"
   ]
  },
  {
   "cell_type": "markdown",
   "metadata": {},
   "source": [
    "It looks like the 'people cross away from the crosswalks' has been over predicted and misclassified for many other variables, the top 2 misclassified ones are 'people speed' and 'people double park their vehicles' and the top 2 true variables that were over predicted are 'people speed' and 'people double park their vehicles'"
   ]
  },
  {
   "cell_type": "markdown",
   "metadata": {},
   "source": [
    "# Task3 - Model 2 [30 points]"
   ]
  },
  {
   "cell_type": "markdown",
   "metadata": {},
   "source": [
    "Improve the model using more complex text features, including n-grams, character n-grams and possibly domain-specific features."
   ]
  },
  {
   "cell_type": "code",
   "execution_count": 21,
   "metadata": {
    "collapsed": false
   },
   "outputs": [],
   "source": [
    "# Add your code for task 3 here. You may use multiple cells. \n",
    "from sklearn.model_selection import GridSearchCV\n",
    "from sklearn.preprocessing import Normalizer\n",
    "from sklearn.pipeline import make_pipeline"
   ]
  },
  {
   "cell_type": "code",
   "execution_count": 415,
   "metadata": {
    "collapsed": false
   },
   "outputs": [],
   "source": [
    "y = df['REQUESTTYPE_new']\n",
    "X = df['COMMENTS']"
   ]
  },
  {
   "cell_type": "code",
   "execution_count": 353,
   "metadata": {
    "collapsed": false
   },
   "outputs": [
    {
     "data": {
      "text/plain": [
       "((6646, 12405), (6646, 12407))"
      ]
     },
     "execution_count": 353,
     "metadata": {},
     "output_type": "execute_result"
    }
   ],
   "source": [
    "# does not work well\n",
    "# adding in some new features\n",
    "# X = pd.DataFrame(df['COMMENTS'])\n",
    "# X['char_len'] = [len(i) for i in df['COMMENTS']]\n",
    "# X['word_len'] = [len(str(i).split()) for i in df['COMMENTS']]\n",
    "# print(X.head(), y.shape, X.shape)\n",
    "# count_vect = CountVectorizer(min_df=4, ngram_range=(1,3))\n",
    "# X_text = count_vect.fit_transform(X['COMMENTS'])\n",
    "# # combine new features\n",
    "# X_new = X_text.todense()\n",
    "# X_new = np.hstack((X_new, np.array(X['char_len']).reshape(6646,1) ))\n",
    "# X_new = np.hstack((X_new, np.array(X['word_len']).reshape(6646,1) ))\n",
    "# X_text.shape, X_new.shape\n",
    "\n",
    "# X_train, X_test, y_train, y_test = train_test_split(X_new, y, test_size=0.20, stratify=y, random_state=seed)\n",
    "# X_train.shape, X_test.shape, y_train.shape, y_test.shape"
   ]
  },
  {
   "cell_type": "code",
   "execution_count": null,
   "metadata": {
    "collapsed": false
   },
   "outputs": [],
   "source": []
  },
  {
   "cell_type": "code",
   "execution_count": 363,
   "metadata": {
    "collapsed": false
   },
   "outputs": [
    {
     "name": "stdout",
     "output_type": "stream",
     "text": [
      "0.287969924812\n",
      "0.108131007591\n"
     ]
    }
   ],
   "source": [
    "# does not work as expected\n",
    "# lr_pipe = make_pipeline(Normalizer(copy=True, norm='l2'),\\\n",
    "#                         LogisticRegression(C=10))\n",
    "# lr = lr_pipe.fit(X_train, y_train)\n",
    "# pred = lr.predict(X_test)\n",
    "# print(lr.score(X_test, y_test))\n",
    "# print(f1_score(y_test, pred, average='macro')) "
   ]
  },
  {
   "cell_type": "code",
   "execution_count": 416,
   "metadata": {
    "collapsed": false
   },
   "outputs": [
    {
     "data": {
      "text/plain": [
       "((5316,), (1330,), (5316,), (1330,))"
      ]
     },
     "execution_count": 416,
     "metadata": {},
     "output_type": "execute_result"
    }
   ],
   "source": [
    "# back to original\n",
    "X_train_text, X_test_text, y_train, y_test = train_test_split(X, y, test_size=0.20, stratify=y, random_state=seed)\n",
    "X_train_text.shape, X_test_text.shape, y_train.shape, y_test.shape"
   ]
  },
  {
   "cell_type": "code",
   "execution_count": 41,
   "metadata": {
    "collapsed": false
   },
   "outputs": [
    {
     "data": {
      "text/plain": [
       "{'logisticregression__C': 10, 'normalizer': Normalizer(copy=True, norm='l2')}"
      ]
     },
     "execution_count": 41,
     "metadata": {},
     "output_type": "execute_result"
    }
   ],
   "source": [
    "# takes to long for travis\n",
    "\n",
    "# try grid searching everything\n",
    "# param_grid = {\"logisticregression__C\": [100, 10, 1, 0.1, 0.001],\n",
    "#              \"normalizer\": [None, Normalizer()]}\n",
    "# grid = GridSearchCV(make_pipeline(CountVectorizer(min_df=4), Normalizer(), LogisticRegression()),\n",
    "#                     param_grid=param_grid, cv=10, scoring=\"f1_macro\")\n",
    "# grid.fit(X_train_text, y_train)\n",
    "# grid.best_params_"
   ]
  },
  {
   "cell_type": "code",
   "execution_count": 368,
   "metadata": {
    "collapsed": false,
    "scrolled": true
   },
   "outputs": [
    {
     "name": "stdout",
     "output_type": "stream",
     "text": [
      "0.615789473684\n",
      "0.571616923254\n"
     ]
    }
   ],
   "source": [
    "# testing new params\n",
    "lr_pipe = make_pipeline(CountVectorizer(min_df=4, ngram_range=(1,3)), Normalizer(copy=True, norm='l2'),\\\n",
    "                        LogisticRegression(C=10))\n",
    "lr_pipe.fit(X_train_text, y_train)\n",
    "pred = lr_pipe.predict(X_test_text)\n",
    "print(lr_pipe.score(X_test_text, y_test))\n",
    "print(f1_score(y_test, pred, average='macro'))"
   ]
  },
  {
   "cell_type": "code",
   "execution_count": 45,
   "metadata": {
    "collapsed": false
   },
   "outputs": [
    {
     "data": {
      "text/plain": [
       "{'countvectorizer__min_df': 3, 'countvectorizer__ngram_range': (1, 2)}"
      ]
     },
     "execution_count": 45,
     "metadata": {},
     "output_type": "execute_result"
    }
   ],
   "source": [
    "# takes to long for travis\n",
    "\n",
    "# try grid searching everything\n",
    "# param_grid = {\"countvectorizer__ngram_range\": [(1, 1), (1, 2), (1, 3), (2, 3), (1, 4)],\n",
    "#              \"countvectorizer__min_df\": [3, 4, 5]}\n",
    "# grid = GridSearchCV(make_pipeline(CountVectorizer(), Normalizer(copy=True, norm='l2'), \\\n",
    "#                                   LogisticRegression(C=10)),\n",
    "#                     param_grid=param_grid, cv=10, scoring=\"f1_macro\")\n",
    "# grid.fit(X_train_text, y_train)\n",
    "# grid.best_params_"
   ]
  },
  {
   "cell_type": "code",
   "execution_count": 174,
   "metadata": {
    "collapsed": false
   },
   "outputs": [
    {
     "name": "stdout",
     "output_type": "stream",
     "text": [
      "0.613533834586\n",
      "0.5685484745\n"
     ]
    }
   ],
   "source": [
    "# testing new params,\n",
    "\n",
    "lr_pipe = make_pipeline(CountVectorizer(min_df=3, ngram_range=(1,2)), Normalizer(copy=True, norm='l2'),\\\n",
    "                        LogisticRegression(C=10))\n",
    "lr_pipe.fit(X_train_text, y_train)\n",
    "pred = lr_pipe.predict(X_test_text)\n",
    "print(lr_pipe.score(X_test_text, y_test))\n",
    "print(f1_score(y_test, pred, average='macro'))"
   ]
  },
  {
   "cell_type": "code",
   "execution_count": 52,
   "metadata": {
    "collapsed": false
   },
   "outputs": [
    {
     "data": {
      "text/plain": [
       "{'countvectorizer__analyzer': 'word'}"
      ]
     },
     "execution_count": 52,
     "metadata": {},
     "output_type": "execute_result"
    }
   ],
   "source": [
    "# takes to long for travis\n",
    "\n",
    "# try grid searching everything\n",
    "# param_grid = {\"countvectorizer__analyzer\": [\"word\", \"char\", \"char_wb\"]}\n",
    "# grid = GridSearchCV(make_pipeline(CountVectorizer(min_df=3, ngram_range=(1,2)), Normalizer(copy=True, norm='l2'), \\\n",
    "#                                   LogisticRegression(C=10)),\n",
    "#                     param_grid=param_grid, cv=10, scoring=\"f1_macro\")\n",
    "# grid.fit(X_train_text, y_train)\n",
    "# grid.best_params_"
   ]
  },
  {
   "cell_type": "code",
   "execution_count": 417,
   "metadata": {
    "collapsed": false
   },
   "outputs": [
    {
     "name": "stdout",
     "output_type": "stream",
     "text": [
      "0.615789473684\n"
     ]
    },
    {
     "data": {
      "text/plain": [
       "0.57161692325406666"
      ]
     },
     "execution_count": 417,
     "metadata": {},
     "output_type": "execute_result"
    }
   ],
   "source": [
    "# final model\n",
    "lr_pipe = make_pipeline(CountVectorizer(min_df=4, ngram_range=(1,3)), Normalizer(copy=True, norm='l2'),\\\n",
    "                        LogisticRegression(C=10))\n",
    "lr_pipe.fit(X_train_text, y_train)\n",
    "pred = lr_pipe.predict(X_test_text)\n",
    "print(lr_pipe.score(X_test_text, y_test))\n",
    "score = f1_score(y_test, pred, average='macro')\n",
    "score"
   ]
  },
  {
   "cell_type": "code",
   "execution_count": 418,
   "metadata": {
    "collapsed": true
   },
   "outputs": [],
   "source": [
    "assert score > .57"
   ]
  },
  {
   "cell_type": "code",
   "execution_count": null,
   "metadata": {
    "collapsed": true
   },
   "outputs": [],
   "source": []
  },
  {
   "cell_type": "markdown",
   "metadata": {},
   "source": [
    "# Task4 - Visualize Results [10 points]"
   ]
  },
  {
   "cell_type": "markdown",
   "metadata": {},
   "source": [
    "Visualize results of the tuned model (classification results, confusion matrix, important features, example mistakes)."
   ]
  },
  {
   "cell_type": "code",
   "execution_count": 57,
   "metadata": {
    "collapsed": false
   },
   "outputs": [
    {
     "name": "stdout",
     "output_type": "stream",
     "text": [
      "[[125   0   0  27   0   7   6   0   3   6   6   1   1]\n",
      " [  2  52   0  13   1   5   2   1   6   2   0   0   0]\n",
      " [  0   0   6   6   0   4   0   2   2   0   0   0   6]\n",
      " [ 18  14   1 172  10  18   6  11  13  15   3   0   4]\n",
      " [  2   1   0  11  28   3   1   2   0   2   1   0   0]\n",
      " [  5   1   0  31   3  80   1  12   7   2   0   0   3]\n",
      " [  4   1   0  16   0   0  61   0   1   1   1   0   0]\n",
      " [  1   1   0  17   0   6   0  96  12   0   0   0   0]\n",
      " [  4   9   0  15   1  10   2   4 102   1   0   0   1]\n",
      " [  7   0   0  11   4   2   1   1   1  39   3   0   0]\n",
      " [ 14   0   0   8   1   0   0   0   3   2  23   0   0]\n",
      " [  0   1   2  10   1   3   0   0   1   0   0   3   1]\n",
      " [  0   0   2   7   1   2   0   3   1   0   0   0  32]]\n"
     ]
    },
    {
     "data": {
      "image/png": "[encoded data removed]",
      "text/plain": [
       "<matplotlib.figure.Figure at 0x11549c390>"
      ]
     },
     "metadata": {},
     "output_type": "display_data"
    }
   ],
   "source": [
    "# Add your code for task 4 here. You may use multiple cells. \n",
    "cnf_matrix = confusion_matrix(y_test, pred)\n",
    "np.set_printoptions(precision=2)\n",
    "\n",
    "# Plot non-normalized confusion matrix\n",
    "plt.figure()\n",
    "plot_confusion_matrix(cnf_matrix, classes=list(set(y_test)),\n",
    "                      title='Confusion matrix')\n",
    "plt.show()"
   ]
  },
  {
   "cell_type": "code",
   "execution_count": 90,
   "metadata": {
    "collapsed": false
   },
   "outputs": [
    {
     "name": "stdout",
     "output_type": "stream",
     "text": [
      "                                                precision    recall  f1-score   support\n",
      "\n",
      "                                  people speed       0.66      0.67      0.67       182\n",
      "sidewalks/ramps dont exist or need improvement       0.60      0.57      0.59        84\n",
      "bike facilities dont exist or need improvement       0.43      0.23      0.30        26\n",
      "         people cross away from the crosswalks       0.48      0.52      0.50       285\n",
      "                  hard to see / low visibility       0.60      0.55      0.57        51\n",
      "             people double park their vehicles       0.51      0.49      0.50       145\n",
      "                       too many lanes to cross       0.76      0.73      0.74        85\n",
      "                      people don't yield while       0.69      0.70      0.69       133\n",
      "                                         other       0.66      0.68      0.67       149\n",
      "         the roadway surface needs improvement       0.51      0.54      0.52        69\n",
      "        wait for the \"walk\" signal is too long       0.59      0.57      0.58        51\n",
      "            people run red lights / stop signs       0.40      0.18      0.25        22\n",
      "           not enough time to cross the street       0.57      0.65      0.61        48\n",
      "\n",
      "                                   avg / total       0.59      0.59      0.59      1330\n",
      "\n"
     ]
    }
   ],
   "source": [
    "print(classification_report(y_test, pred, target_names=list(set(y_test))))"
   ]
  },
  {
   "cell_type": "code",
   "execution_count": 72,
   "metadata": {
    "collapsed": false
   },
   "outputs": [],
   "source": [
    "def plot_important_features(coef, feature_names, top_n=20, ax=None):\n",
    "    if ax is None:\n",
    "        ax = plt.gca()\n",
    "    inds = np.argsort(coef)\n",
    "    low = inds[:top_n]\n",
    "    high = inds[-top_n:]\n",
    "    important = np.hstack([low, high])\n",
    "    myrange = range(len(important))\n",
    "\n",
    "    ax.bar(myrange, coef[important])\n",
    "    ax.set_xticks(myrange)\n",
    "    ax.set_xticklabels(feature_names[important], rotation=60, ha=\"right\")"
   ]
  },
  {
   "cell_type": "code",
   "execution_count": 441,
   "metadata": {
    "collapsed": false,
    "scrolled": true
   },
   "outputs": [
    {
     "name": "stdout",
     "output_type": "stream",
     "text": [
      "0.587969924812\n",
      "0.553598415978\n"
     ]
    },
    {
     "data": {
      "image/png": "[encoded data removed]",
      "text/plain": [
       "<matplotlib.figure.Figure at 0x115291110>"
      ]
     },
     "metadata": {},
     "output_type": "display_data"
    }
   ],
   "source": [
    "vect = CountVectorizer(min_df=4, ngram_range=(1,3))\n",
    "X_train = vect.fit_transform(X_train_text)\n",
    "feature_names = vect.get_feature_names()\n",
    "X_test = vect.transform(X_test_text)\n",
    "\n",
    "# norm = Normalizer(copy=True, norm='l2')\n",
    "lr = LogisticRegression(C=10)\n",
    "lr.fit(X_train, y_train)\n",
    "pred = lr.predict(X_test)\n",
    "print(lr.score(X_test, y_test))\n",
    "print(f1_score(y_test, pred, average='macro'))\n",
    "plt.figure(figsize=(15, 4))\n",
    "plot_important_features(np.sum(lr.coef_, axis=0), np.array(feature_names), top_n=40)"
   ]
  },
  {
   "cell_type": "code",
   "execution_count": null,
   "metadata": {
    "collapsed": false
   },
   "outputs": [],
   "source": []
  },
  {
   "cell_type": "markdown",
   "metadata": {},
   "source": [
    "# Task5 - Clustering [10 points]"
   ]
  },
  {
   "cell_type": "markdown",
   "metadata": {},
   "source": [
    "Apply LDA, NMF and K-Means to the whole dataset. Can you find clusters or topics that match well with some of the ground truth labels? Use ARI to compare the methods and visualize topics and clusters."
   ]
  },
  {
   "cell_type": "code",
   "execution_count": 1,
   "metadata": {
    "collapsed": true
   },
   "outputs": [],
   "source": [
    "# Add your code for task 5 here. You may use multiple cells. \n",
    "from sklearn.cluster import KMeans\n",
    "from sklearn.decomposition import NMF, LatentDirichletAllocation\n",
    "from sklearn.metrics.cluster import adjusted_rand_score"
   ]
  },
  {
   "cell_type": "code",
   "execution_count": 18,
   "metadata": {
    "collapsed": false
   },
   "outputs": [],
   "source": [
    "def print_top_words(model, feature_names, n_top_words):\n",
    "    for topic_idx, topic in enumerate(model.components_):\n",
    "        print(\"Topic #%d:\" % topic_idx)\n",
    "        print(\" \".join([feature_names[i]\n",
    "                        for i in topic.argsort()[:-n_top_words - 1:-1]]))\n",
    "    print()"
   ]
  },
  {
   "cell_type": "code",
   "execution_count": 16,
   "metadata": {
    "collapsed": false,
    "scrolled": true
   },
   "outputs": [
    {
     "name": "stdout",
     "output_type": "stream",
     "text": [
      "\n",
      "Adjusted Rand-Index: 0.082 \n",
      "\n",
      "Topics in NMF model:\n"
     ]
    },
    {
     "ename": "NameError",
     "evalue": "name 'print_top_words' is not defined",
     "output_type": "error",
     "traceback": [
      "\u001b[0;31m---------------------------------------------------------------------------\u001b[0m",
      "\u001b[0;31mNameError\u001b[0m                                 Traceback (most recent call last)",
      "\u001b[0;32m<ipython-input-16-a01e8bba3409>\u001b[0m in \u001b[0;36m<module>\u001b[0;34m()\u001b[0m\n\u001b[1;32m     21\u001b[0m \u001b[0;32mprint\u001b[0m\u001b[0;34m(\u001b[0m\u001b[0;34m\"Topics in NMF model:\"\u001b[0m\u001b[0;34m)\u001b[0m\u001b[0;34m\u001b[0m\u001b[0m\n\u001b[1;32m     22\u001b[0m \u001b[0mtfidf_feature_names\u001b[0m \u001b[0;34m=\u001b[0m \u001b[0mtfidf_vectorizer\u001b[0m\u001b[0;34m.\u001b[0m\u001b[0mget_feature_names\u001b[0m\u001b[0;34m(\u001b[0m\u001b[0;34m)\u001b[0m\u001b[0;34m\u001b[0m\u001b[0m\n\u001b[0;32m---> 23\u001b[0;31m \u001b[0mprint_top_words\u001b[0m\u001b[0;34m(\u001b[0m\u001b[0mnmf\u001b[0m\u001b[0;34m,\u001b[0m \u001b[0mtfidf_feature_names\u001b[0m\u001b[0;34m,\u001b[0m \u001b[0mn_top_words\u001b[0m\u001b[0;34m)\u001b[0m\u001b[0;34m\u001b[0m\u001b[0m\n\u001b[0m",
      "\u001b[0;31mNameError\u001b[0m: name 'print_top_words' is not defined"
     ]
    }
   ],
   "source": [
    "n_samples = 2000\n",
    "n_features = 10000\n",
    "n_topics = true_k = np.unique(y).shape[0]\n",
    "n_top_words = 10\n",
    "labels = y\n",
    "# Use tf-idf features for NMF.\n",
    "tfidf_vectorizer = TfidfVectorizer(max_df=0.95, min_df=2,\n",
    "                                   max_features=n_features,\n",
    "                                   stop_words='english')\n",
    "tfidf = tfidf_vectorizer.fit_transform(X)\n",
    "\n",
    "# Fit the NMF model\n",
    "nmf = NMF(n_components=n_topics, random_state=seed,\n",
    "          alpha=.1, l1_ratio=.5)\n",
    "nmf.fit(tfidf)\n",
    "\n",
    "preds = np.argmax(nmf.transform(tfidf), 1)\n",
    "print(\"\\nAdjusted Rand-Index: %.3f \\n\"\n",
    "      % adjusted_rand_score(labels, preds))\n",
    "\n",
    "print(\"Topics in NMF model:\")\n",
    "tfidf_feature_names = tfidf_vectorizer.get_feature_names()\n",
    "print_top_words(nmf, tfidf_feature_names, n_top_words)"
   ]
  },
  {
   "cell_type": "code",
   "execution_count": 183,
   "metadata": {
    "collapsed": false,
    "scrolled": true
   },
   "outputs": [
    {
     "name": "stdout",
     "output_type": "stream",
     "text": [
      "Clustering sparse data with KMeans(algorithm='auto', copy_x=True, init='k-means++', max_iter=100,\n",
      "    n_clusters=13, n_init=1, n_jobs=1, precompute_distances='auto',\n",
      "    random_state=None, tol=0.0001, verbose=0)\n",
      "Top terms per cluster:\n",
      "\n",
      "Adjusted Rand-Index: 0.084 \n",
      "\n",
      "Cluster 0:\n",
      " hubway\n",
      " station\n",
      " bikes\n",
      " sidewalk\n",
      " convenience\n",
      " store\n",
      " bad\n",
      " bikers\n",
      " time\n",
      " right\n",
      "()\n",
      "Cluster 1:\n",
      " lane\n",
      " bike\n",
      " cars\n",
      " right\n",
      " need\n",
      " people\n",
      " park\n",
      " traffic\n",
      " road\n",
      " markings\n",
      "()\n",
      "Cluster 2:\n",
      " crosswalks\n",
      " yield\n",
      " pedestrians\n",
      " don\n",
      " drivers\n",
      " turning\n",
      " people\n",
      " cars\n",
      " right\n",
      " cross\n",
      "()\n",
      "Cluster 3:\n",
      " traffic\n",
      " cars\n",
      " intersection\n",
      " st\n",
      " coming\n",
      " turning\n",
      " parked\n",
      " hard\n",
      " dangerous\n",
      " difficult\n",
      "()\n",
      "Cluster 4:\n",
      " stop\n",
      " sign\n",
      " signs\n",
      " drivers\n",
      " cars\n",
      " people\n",
      " intersection\n",
      " street\n",
      " run\n",
      " speed\n",
      "()\n",
      "Cluster 5:\n",
      " street\n",
      " people\n",
      " speed\n",
      " sidewalk\n",
      " road\n",
      " dangerous\n",
      " sidewalks\n",
      " cars\n",
      " area\n",
      " cross\n",
      "()\n",
      "Cluster 6:\n",
      " red\n",
      " light\n",
      " run\n",
      " lights\n",
      " cars\n",
      " people\n",
      " turn\n",
      " green\n",
      " intersection\n",
      " drivers\n",
      "()\n",
      "Cluster 7:\n",
      " parking\n",
      " double\n",
      " park\n",
      " people\n",
      " street\n",
      " parked\n",
      " lot\n",
      " cars\n",
      " lane\n",
      " traffic\n",
      "()\n",
      "Cluster 8:\n",
      " walk\n",
      " signal\n",
      " cross\n",
      " long\n",
      " wait\n",
      " pedestrians\n",
      " time\n",
      " light\n",
      " people\n",
      " traffic\n",
      "()\n",
      "Cluster 9:\n",
      " crosswalk\n",
      " pedestrians\n",
      " yield\n",
      " people\n",
      " drivers\n",
      " cross\n",
      " cars\n",
      " stop\n",
      " don\n",
      " street\n",
      "()\n",
      "Cluster 10:\n",
      " left\n",
      " turn\n",
      " lane\n",
      " right\n",
      " straight\n",
      " cars\n",
      " turning\n",
      " traffic\n",
      " lanes\n",
      " intersection\n",
      "()\n",
      "Cluster 11:\n",
      " bike\n",
      " lanes\n",
      " facilities\n",
      " need\n",
      " road\n",
      " people\n",
      " sharrows\n",
      " space\n",
      " protected\n",
      " needs\n",
      "()\n",
      "Cluster 12:\n",
      " way\n",
      " street\n",
      " wrong\n",
      " drive\n",
      " fast\n",
      " people\n",
      " cars\n",
      " road\n",
      " narrow\n",
      " drivers\n",
      "()\n"
     ]
    }
   ],
   "source": [
    "\n",
    "true_k = np.unique(y).shape[0]\n",
    "\n",
    "km = KMeans(n_clusters=true_k, init='k-means++', max_iter=100, n_init=1)\n",
    "\n",
    "km.fit(tfidf)\n",
    "\n",
    "order_centroids = km.cluster_centers_.argsort()[:, ::-1]\n",
    "\n",
    "print(\"\\nAdjusted Rand-Index: %.3f \\n\"\n",
    "      % adjusted_rand_score(labels, km.labels_))\n",
    "\n",
    "terms = tfidf_vectorizer.get_feature_names()\n",
    "for i in range(true_k):\n",
    "    print(\"Cluster %d:\" % i)\n",
    "    for ind in order_centroids[i, :n_top_words]:\n",
    "        print(' %s' % terms[ind])\n",
    "    print()"
   ]
  },
  {
   "cell_type": "code",
   "execution_count": 31,
   "metadata": {
    "collapsed": false
   },
   "outputs": [],
   "source": [
    "# X.shape, labels.shape, tf.shape, preds.shape"
   ]
  },
  {
   "cell_type": "code",
   "execution_count": 252,
   "metadata": {
    "collapsed": false,
    "scrolled": true
   },
   "outputs": [
    {
     "name": "stdout",
     "output_type": "stream",
     "text": [
      "\n",
      "Adjusted Rand-Index: 0.077 \n",
      "\n",
      "\n",
      "Topics in LDA model:\n",
      "Topic #0:\n",
      "lane bike street cars way traffic lanes people st right\n",
      "Topic #1:\n",
      "light red run people lights ave intersection hit cars corner\n",
      "Topic #2:\n",
      "bridge going bikes block trucks intersection path traffic crossing pedestrian\n",
      "Topic #3:\n",
      "green tracks train arrow direction coming vehicle opposite st old\n",
      "Topic #4:\n",
      "rush hour cycle hours location track morning race evening house\n",
      "Topic #5:\n",
      "vehicles speed road limit mph parked double main speeds trucks\n",
      "Topic #6:\n",
      "children cut play young american legion need garage dogs jamaica\n",
      "Topic #7:\n",
      "pedestrians walk cars cross traffic light turn crosswalk signal crossing\n",
      "Topic #8:\n",
      "day police city huntington stopping poor visibility actually needed median\n",
      "Topic #9:\n",
      "stop people sign street bus park signs drivers crosswalk school\n",
      "Topic #10:\n",
      "street area road narrow sidewalk people sidewalks station cars dangerous\n",
      "Topic #11:\n",
      "sidewalk zone potholes ramp forcing westbound bike aren killed large\n",
      "Topic #12:\n",
      "crosswalks drivers st beacon pedestrians yield speed cyclists routinely high\n",
      "()\n"
     ]
    }
   ],
   "source": [
    "# Use tf (raw term count) features for LDA.\n",
    "tf_vectorizer = CountVectorizer(max_df=0.95, min_df=3,\n",
    "                                max_features=n_features,\n",
    "                                stop_words='english')\n",
    "tf = tf_vectorizer.fit_transform(X)\n",
    "\n",
    "lda = LatentDirichletAllocation(n_topics=n_topics, max_iter=5,\n",
    "                                learning_method='online',\n",
    "                                learning_offset=50.,\n",
    "                                random_state=seed)\n",
    "lda.fit(tf)\n",
    "\n",
    "preds = np.argmax(lda.transform(tf), 1)\n",
    "print(\"\\nAdjusted Rand-Index: %.3f \\n\"\n",
    "      % adjusted_rand_score(labels, preds))\n",
    "\n",
    "print(\"\\nTopics in LDA model:\")\n",
    "tf_feature_names = tf_vectorizer.get_feature_names()\n",
    "print_top_words(lda, tf_feature_names, n_top_words)"
   ]
  },
  {
   "cell_type": "code",
   "execution_count": 254,
   "metadata": {
    "collapsed": true
   },
   "outputs": [],
   "source": [
    "# seems k-means did best, just slightly better than NMF and LDA did worst"
   ]
  },
  {
   "cell_type": "markdown",
   "metadata": {},
   "source": [
    "# Task6 - Model 3 [30 points]"
   ]
  },
  {
   "cell_type": "markdown",
   "metadata": {},
   "source": [
    "Improve the class definition for REQUESTTYPE by using the results of the clustering and results of the previous classification model. Re-assign labels using either the results of clustering or using keywords that you found during data exploration. The labels must be semantically meaningful.\n",
    "The data has a large “other” category. Apply the topic modeling and clustering techniques to this subset of the data to find possible splits of this class.\n",
    "Report accuracy using macro average f1 score (should be above .53) \n"
   ]
  },
  {
   "cell_type": "code",
   "execution_count": 14,
   "metadata": {
    "collapsed": true
   },
   "outputs": [],
   "source": [
    "# Add your code for task 6 here. You may use multiple cells. \n",
    "X_other = df['COMMENTS'][df['REQUESTTYPE_new'] == 'other']\n",
    "y_other = df['REQUESTTYPE_new'][df['REQUESTTYPE_new'] == 'other']"
   ]
  },
  {
   "cell_type": "code",
   "execution_count": 17,
   "metadata": {
    "collapsed": false,
    "scrolled": true
   },
   "outputs": [
    {
     "name": "stdout",
     "output_type": "stream",
     "text": [
      "Cluster 0:\n",
      " lane\n",
      " way\n",
      " turn\n",
      " left\n",
      " street\n",
      " cars\n",
      " people\n",
      " traffic\n",
      " intersection\n",
      " right\n",
      "()\n",
      "Cluster 1:\n",
      " stop\n",
      " crosswalk\n",
      " cross\n",
      " pedestrians\n",
      " walk\n",
      " light\n",
      " sign\n",
      " signal\n",
      " cars\n",
      " people\n",
      "()\n"
     ]
    }
   ],
   "source": [
    "# topic modeling for other category\n",
    "true_k = 2\n",
    "tfidf_vectorizer = TfidfVectorizer(max_df=0.95, min_df=2,\n",
    "                                   max_features=n_features,\n",
    "                                   stop_words='english')\n",
    "\n",
    "tfidf = tfidf_vectorizer.fit_transform(X_other)\n",
    "\n",
    "km = KMeans(n_clusters=true_k, init='k-means++', max_iter=100, n_init=1)\n",
    "km.fit(tfidf)\n",
    "\n",
    "order_centroids = km.cluster_centers_.argsort()[:, ::-1]\n",
    "\n",
    "terms = tfidf_vectorizer.get_feature_names()\n",
    "for i in range(true_k):\n",
    "    print(\"Cluster %d:\" % i)\n",
    "    for ind in order_centroids[i, :n_top_words]:\n",
    "        print(' %s' % terms[ind])\n",
    "    print()"
   ]
  },
  {
   "cell_type": "code",
   "execution_count": 397,
   "metadata": {
    "collapsed": false
   },
   "outputs": [
    {
     "data": {
      "text/plain": [
       "{'bike facilities dont exist or need improvement',\n",
       " 'hard to see / low visibility',\n",
       " 'not enough time to cross the street',\n",
       " 'other',\n",
       " 'people cross away from the crosswalks',\n",
       " \"people don't yield while\",\n",
       " 'people double park their vehicles',\n",
       " 'people run red lights / stop signs',\n",
       " 'people speed',\n",
       " 'sidewalks/ramps dont exist or need improvement',\n",
       " 'the roadway surface needs improvement',\n",
       " 'too many lanes to cross',\n",
       " 'wait for the \"walk\" signal is too long'}"
      ]
     },
     "execution_count": 397,
     "metadata": {},
     "output_type": "execute_result"
    }
   ],
   "source": [
    "set(y)"
   ]
  },
  {
   "cell_type": "code",
   "execution_count": 18,
   "metadata": {
    "collapsed": false
   },
   "outputs": [
    {
     "data": {
      "text/plain": [
       "((2, 1455), (1425, 1455), (1425,), (6646,), (1425,))"
      ]
     },
     "execution_count": 18,
     "metadata": {},
     "output_type": "execute_result"
    }
   ],
   "source": [
    "km.cluster_centers_.shape, tfidf.shape, X_other.shape, X.shape, km.labels_.shape"
   ]
  },
  {
   "cell_type": "code",
   "execution_count": 19,
   "metadata": {
    "collapsed": false
   },
   "outputs": [],
   "source": [
    "new_topic_dict = {0: 'intersections are congested and dangerous',\n",
    "                 1:'turning cars are dangerous'}\n",
    "y_other_new = []\n",
    "for i,j in zip(X_other, km.labels_):\n",
    "#     print(i,j)\n",
    "    y_other_new.append(new_topic_dict[j])\n"
   ]
  },
  {
   "cell_type": "code",
   "execution_count": 22,
   "metadata": {
    "collapsed": false,
    "scrolled": true
   },
   "outputs": [
    {
     "name": "stdout",
     "output_type": "stream",
     "text": [
      "0.971929824561\n"
     ]
    },
    {
     "name": "stderr",
     "output_type": "stream",
     "text": [
      "/Users/mikejaron/anaconda/lib/python2.7/site-packages/sklearn/utils/validation.py:429: DataConversionWarning: Data with input dtype int64 was converted to float64 by the normalize function.\n",
      "  warnings.warn(msg, _DataConversionWarning)\n"
     ]
    },
    {
     "data": {
      "text/plain": [
       "0.95725213739313031"
      ]
     },
     "execution_count": 22,
     "metadata": {},
     "output_type": "execute_result"
    }
   ],
   "source": [
    "# classification with just the former other category\n",
    "X_train_text1, X_test_text1, y_train1, y_test1 = train_test_split(X_other, y_other_new, test_size=0.20, stratify=y_other, \\\n",
    "                                                              random_state=seed)\n",
    "lr_pipe = make_pipeline(CountVectorizer(min_df=4, ngram_range=(1,3)), Normalizer(copy=True, norm='l2'),\\\n",
    "                        LogisticRegression(C=10))\n",
    "lr_pipe.fit(X_train_text1, y_train1)\n",
    "pred = lr_pipe.predict(X_test_text1)\n",
    "print(lr_pipe.score(X_test_text1, y_test1))\n",
    "score = f1_score(y_test1, pred, average='macro')\n",
    "score"
   ]
  },
  {
   "cell_type": "code",
   "execution_count": 23,
   "metadata": {
    "collapsed": false
   },
   "outputs": [],
   "source": [
    "assert score > .53"
   ]
  },
  {
   "cell_type": "code",
   "execution_count": 33,
   "metadata": {
    "collapsed": false
   },
   "outputs": [
    {
     "name": "stdout",
     "output_type": "stream",
     "text": [
      "0 24\n",
      "bike facilities dont exist or need improvement\n"
     ]
    },
    {
     "data": {
      "text/plain": [
       "0       bike facilities dont exist or need improvement\n",
       "1               wait for the \"walk\" signal is too long\n",
       "2                people cross away from the crosswalks\n",
       "4                             people don't yield while\n",
       "5                people cross away from the crosswalks\n",
       "8       bike facilities dont exist or need improvement\n",
       "9       bike facilities dont exist or need improvement\n",
       "10      bike facilities dont exist or need improvement\n",
       "11                                        people speed\n",
       "12                  people run red lights / stop signs\n",
       "17               people cross away from the crosswalks\n",
       "18                            people don't yield while\n",
       "19      bike facilities dont exist or need improvement\n",
       "20      bike facilities dont exist or need improvement\n",
       "21      bike facilities dont exist or need improvement\n",
       "22                             too many lanes to cross\n",
       "23                            people don't yield while\n",
       "24                                               other\n",
       "25                             too many lanes to cross\n",
       "26                  people run red lights / stop signs\n",
       "27                             too many lanes to cross\n",
       "28                             too many lanes to cross\n",
       "29                            people don't yield while\n",
       "30                        hard to see / low visibility\n",
       "31                   people double park their vehicles\n",
       "32                            people don't yield while\n",
       "33              wait for the \"walk\" signal is too long\n",
       "34                   people double park their vehicles\n",
       "35                             too many lanes to cross\n",
       "36      sidewalks/ramps dont exist or need improvement\n",
       "                             ...                      \n",
       "8502                people run red lights / stop signs\n",
       "8503                                             other\n",
       "8504                people run red lights / stop signs\n",
       "8506                                      people speed\n",
       "8507                          people don't yield while\n",
       "8508                          people don't yield while\n",
       "8509                           too many lanes to cross\n",
       "8510                people run red lights / stop signs\n",
       "8511             people cross away from the crosswalks\n",
       "8512                people run red lights / stop signs\n",
       "8513                      hard to see / low visibility\n",
       "8514                      hard to see / low visibility\n",
       "8515                           too many lanes to cross\n",
       "8516                                      people speed\n",
       "8517                                      people speed\n",
       "8518                      hard to see / low visibility\n",
       "8519                                      people speed\n",
       "8520                                      people speed\n",
       "8521            wait for the \"walk\" signal is too long\n",
       "8522                                             other\n",
       "8523                                             other\n",
       "8524                                             other\n",
       "8525                                             other\n",
       "8526                          people don't yield while\n",
       "8527                people run red lights / stop signs\n",
       "8528                      hard to see / low visibility\n",
       "8529                                      people speed\n",
       "8530                                      people speed\n",
       "8531                      hard to see / low visibility\n",
       "8532                                      people speed\n",
       "Name: REQUESTTYPE_new, dtype: object"
      ]
     },
     "execution_count": 33,
     "metadata": {},
     "output_type": "execute_result"
    }
   ],
   "source": [
    "y_other_df = pd.DataFrame(y_other)\n",
    "y_other_df.reset_index(inplace=True)\n",
    "y_other_df['new'] = y_other_new\n",
    "# y_other_df.head()\n",
    "y_new = y\n",
    "for i in range(len(y_other_df)):\n",
    "    print i, y_other_df['index'][i]\n",
    "    print y_new[i]\n",
    "    break\n",
    "y_new"
   ]
  },
  {
   "cell_type": "code",
   "execution_count": null,
   "metadata": {
    "collapsed": false
   },
   "outputs": [],
   "source": []
  },
  {
   "cell_type": "code",
   "execution_count": 75,
   "metadata": {
    "collapsed": false
   },
   "outputs": [
    {
     "data": {
      "text/html": [
       "<div>\n",
       "<table border=\"1\" class=\"dataframe\">\n",
       "  <thead>\n",
       "    <tr style=\"text-align: right;\">\n",
       "      <th></th>\n",
       "      <th>﻿X</th>\n",
       "      <th>Y</th>\n",
       "      <th>OBJECTID</th>\n",
       "      <th>GLOBALID</th>\n",
       "      <th>REQUESTID</th>\n",
       "      <th>REQUESTDATE</th>\n",
       "      <th>STATUS</th>\n",
       "      <th>STREETSEGID</th>\n",
       "      <th>COMMENTS</th>\n",
       "      <th>USERTYPE</th>\n",
       "      <th>REQUESTTYPE_new</th>\n",
       "    </tr>\n",
       "  </thead>\n",
       "  <tbody>\n",
       "    <tr>\n",
       "      <th>0</th>\n",
       "      <td>-71.071329</td>\n",
       "      <td>42.332161</td>\n",
       "      <td>15607</td>\n",
       "      <td>NaN</td>\n",
       "      <td>15607.0</td>\n",
       "      <td>2016-01-19T22:14:26.000Z</td>\n",
       "      <td>Unassigned</td>\n",
       "      <td>0</td>\n",
       "      <td>the roadway is super wide here with no lane ma...</td>\n",
       "      <td>bikes</td>\n",
       "      <td>bike facilities dont exist or need improvement</td>\n",
       "    </tr>\n",
       "    <tr>\n",
       "      <th>1</th>\n",
       "      <td>-71.067764</td>\n",
       "      <td>42.374244</td>\n",
       "      <td>15608</td>\n",
       "      <td>NaN</td>\n",
       "      <td>15608.0</td>\n",
       "      <td>2016-01-19T22:55:29.000Z</td>\n",
       "      <td>Unassigned</td>\n",
       "      <td>0</td>\n",
       "      <td>As someone who walks from SE of the intersecti...</td>\n",
       "      <td>walks</td>\n",
       "      <td>wait for the \"walk\" signal is too long</td>\n",
       "    </tr>\n",
       "    <tr>\n",
       "      <th>2</th>\n",
       "      <td>-71.066077</td>\n",
       "      <td>42.374768</td>\n",
       "      <td>15609</td>\n",
       "      <td>NaN</td>\n",
       "      <td>15609.0</td>\n",
       "      <td>2016-01-19T22:57:09.000Z</td>\n",
       "      <td>Unassigned</td>\n",
       "      <td>0</td>\n",
       "      <td>I'm one of those people. Many people walk nort...</td>\n",
       "      <td>walks</td>\n",
       "      <td>people cross away from the crosswalks</td>\n",
       "    </tr>\n",
       "    <tr>\n",
       "      <th>4</th>\n",
       "      <td>-71.070658</td>\n",
       "      <td>42.351921</td>\n",
       "      <td>16008</td>\n",
       "      <td>NaN</td>\n",
       "      <td>16008.0</td>\n",
       "      <td>2016-01-19T23:39:45.000Z</td>\n",
       "      <td>Unassigned</td>\n",
       "      <td>0</td>\n",
       "      <td>People do not understand which lane to move in...</td>\n",
       "      <td>drives</td>\n",
       "      <td>people don't yield while</td>\n",
       "    </tr>\n",
       "    <tr>\n",
       "      <th>5</th>\n",
       "      <td>-71.059937</td>\n",
       "      <td>42.358693</td>\n",
       "      <td>16407</td>\n",
       "      <td>NaN</td>\n",
       "      <td>16407.0</td>\n",
       "      <td>2016-01-20T21:28:27.000Z</td>\n",
       "      <td>Unassigned</td>\n",
       "      <td>0</td>\n",
       "      <td>I rarely use the crosswalk because the light h...</td>\n",
       "      <td>walks</td>\n",
       "      <td>people cross away from the crosswalks</td>\n",
       "    </tr>\n",
       "    <tr>\n",
       "      <th>8</th>\n",
       "      <td>-71.093018</td>\n",
       "      <td>42.349864</td>\n",
       "      <td>13609</td>\n",
       "      <td>NaN</td>\n",
       "      <td>13609.0</td>\n",
       "      <td>2016-01-15T21:46:24.000Z</td>\n",
       "      <td>Unassigned</td>\n",
       "      <td>0</td>\n",
       "      <td>I feel scared biking on the \"green carpet\" bik...</td>\n",
       "      <td>bikes</td>\n",
       "      <td>bike facilities dont exist or need improvement</td>\n",
       "    </tr>\n",
       "    <tr>\n",
       "      <th>9</th>\n",
       "      <td>-71.091526</td>\n",
       "      <td>42.349158</td>\n",
       "      <td>13610</td>\n",
       "      <td>NaN</td>\n",
       "      <td>13610.0</td>\n",
       "      <td>2016-01-15T21:47:56.000Z</td>\n",
       "      <td>Unassigned</td>\n",
       "      <td>0</td>\n",
       "      <td>While I love that the Comm Ave bike lane is to...</td>\n",
       "      <td>bikes</td>\n",
       "      <td>bike facilities dont exist or need improvement</td>\n",
       "    </tr>\n",
       "    <tr>\n",
       "      <th>10</th>\n",
       "      <td>-71.067408</td>\n",
       "      <td>42.352338</td>\n",
       "      <td>13611</td>\n",
       "      <td>NaN</td>\n",
       "      <td>13611.0</td>\n",
       "      <td>2016-01-15T21:49:22.000Z</td>\n",
       "      <td>Unassigned</td>\n",
       "      <td>0</td>\n",
       "      <td>Need a bike facility to connect Boylston St to...</td>\n",
       "      <td>bikes</td>\n",
       "      <td>bike facilities dont exist or need improvement</td>\n",
       "    </tr>\n",
       "    <tr>\n",
       "      <th>11</th>\n",
       "      <td>-71.069229</td>\n",
       "      <td>42.345068</td>\n",
       "      <td>13612</td>\n",
       "      <td>NaN</td>\n",
       "      <td>13612.0</td>\n",
       "      <td>2016-01-15T21:52:00.000Z</td>\n",
       "      <td>Unassigned</td>\n",
       "      <td>0</td>\n",
       "      <td>3 lane, no parking either side. SPEEDWAY. No s...</td>\n",
       "      <td>walks</td>\n",
       "      <td>people speed</td>\n",
       "    </tr>\n",
       "    <tr>\n",
       "      <th>12</th>\n",
       "      <td>-71.077320</td>\n",
       "      <td>42.350091</td>\n",
       "      <td>13613</td>\n",
       "      <td>NaN</td>\n",
       "      <td>13613.0</td>\n",
       "      <td>2016-01-15T21:54:47.000Z</td>\n",
       "      <td>Unassigned</td>\n",
       "      <td>0</td>\n",
       "      <td>People who are walking constantly run the red ...</td>\n",
       "      <td>bikes</td>\n",
       "      <td>people run red lights / stop signs</td>\n",
       "    </tr>\n",
       "    <tr>\n",
       "      <th>17</th>\n",
       "      <td>-71.104105</td>\n",
       "      <td>42.316973</td>\n",
       "      <td>14011</td>\n",
       "      <td>NaN</td>\n",
       "      <td>14011.0</td>\n",
       "      <td>2016-01-15T21:39:17.000Z</td>\n",
       "      <td>Unassigned</td>\n",
       "      <td>0</td>\n",
       "      <td>The SWC path has an outlet here right across f...</td>\n",
       "      <td>walks</td>\n",
       "      <td>people cross away from the crosswalks</td>\n",
       "    </tr>\n",
       "    <tr>\n",
       "      <th>18</th>\n",
       "      <td>-71.109895</td>\n",
       "      <td>42.322065</td>\n",
       "      <td>14012</td>\n",
       "      <td>NaN</td>\n",
       "      <td>14012.0</td>\n",
       "      <td>2016-01-15T21:40:03.000Z</td>\n",
       "      <td>Unassigned</td>\n",
       "      <td>0</td>\n",
       "      <td>People driving out of the rotary and going ont...</td>\n",
       "      <td>walks</td>\n",
       "      <td>people don't yield while</td>\n",
       "    </tr>\n",
       "    <tr>\n",
       "      <th>19</th>\n",
       "      <td>-71.111534</td>\n",
       "      <td>42.320998</td>\n",
       "      <td>14013</td>\n",
       "      <td>NaN</td>\n",
       "      <td>14013.0</td>\n",
       "      <td>2016-01-15T21:41:06.000Z</td>\n",
       "      <td>Unassigned</td>\n",
       "      <td>0</td>\n",
       "      <td>An \"except bikes\" under the Do Not Enter sign ...</td>\n",
       "      <td>bikes</td>\n",
       "      <td>bike facilities dont exist or need improvement</td>\n",
       "    </tr>\n",
       "    <tr>\n",
       "      <th>20</th>\n",
       "      <td>-71.088152</td>\n",
       "      <td>42.336125</td>\n",
       "      <td>14014</td>\n",
       "      <td>NaN</td>\n",
       "      <td>14014.0</td>\n",
       "      <td>2016-01-15T21:43:16.000Z</td>\n",
       "      <td>Unassigned</td>\n",
       "      <td>0</td>\n",
       "      <td>Where is the southwest corridor bike path thro...</td>\n",
       "      <td>bikes</td>\n",
       "      <td>bike facilities dont exist or need improvement</td>\n",
       "    </tr>\n",
       "    <tr>\n",
       "      <th>21</th>\n",
       "      <td>-71.089584</td>\n",
       "      <td>42.345098</td>\n",
       "      <td>14015</td>\n",
       "      <td>NaN</td>\n",
       "      <td>14015.0</td>\n",
       "      <td>2016-01-15T21:44:09.000Z</td>\n",
       "      <td>Unassigned</td>\n",
       "      <td>0</td>\n",
       "      <td>Hemenway from Boylston to Westland is one way,...</td>\n",
       "      <td>bikes</td>\n",
       "      <td>bike facilities dont exist or need improvement</td>\n",
       "    </tr>\n",
       "    <tr>\n",
       "      <th>22</th>\n",
       "      <td>-71.093318</td>\n",
       "      <td>42.349895</td>\n",
       "      <td>14016</td>\n",
       "      <td>NaN</td>\n",
       "      <td>14016.0</td>\n",
       "      <td>2016-01-15T21:45:07.000Z</td>\n",
       "      <td>Unassigned</td>\n",
       "      <td>0</td>\n",
       "      <td>Huge wide open intersection</td>\n",
       "      <td>walks</td>\n",
       "      <td>too many lanes to cross</td>\n",
       "    </tr>\n",
       "    <tr>\n",
       "      <th>23</th>\n",
       "      <td>-71.072547</td>\n",
       "      <td>42.355430</td>\n",
       "      <td>14017</td>\n",
       "      <td>NaN</td>\n",
       "      <td>14017.0</td>\n",
       "      <td>2016-01-15T21:50:03.000Z</td>\n",
       "      <td>Unassigned</td>\n",
       "      <td>0</td>\n",
       "      <td>Cars from Storrow Drive don't yield when turni...</td>\n",
       "      <td>walks</td>\n",
       "      <td>people don't yield while</td>\n",
       "    </tr>\n",
       "    <tr>\n",
       "      <th>24</th>\n",
       "      <td>-71.064761</td>\n",
       "      <td>42.343629</td>\n",
       "      <td>14018</td>\n",
       "      <td>NaN</td>\n",
       "      <td>14018.0</td>\n",
       "      <td>2016-01-15T21:52:49.000Z</td>\n",
       "      <td>Unassigned</td>\n",
       "      <td>0</td>\n",
       "      <td>Always traffic here. Remove one of the parking...</td>\n",
       "      <td>drives</td>\n",
       "      <td>intersections are congested and dangerous</td>\n",
       "    </tr>\n",
       "    <tr>\n",
       "      <th>25</th>\n",
       "      <td>-71.102581</td>\n",
       "      <td>42.343327</td>\n",
       "      <td>14019</td>\n",
       "      <td>NaN</td>\n",
       "      <td>14019.0</td>\n",
       "      <td>2016-01-15T21:53:25.000Z</td>\n",
       "      <td>Unassigned</td>\n",
       "      <td>0</td>\n",
       "      <td>It feels like it will take forever to get from...</td>\n",
       "      <td>walks</td>\n",
       "      <td>too many lanes to cross</td>\n",
       "    </tr>\n",
       "    <tr>\n",
       "      <th>26</th>\n",
       "      <td>-71.075886</td>\n",
       "      <td>42.343919</td>\n",
       "      <td>14020</td>\n",
       "      <td>NaN</td>\n",
       "      <td>14020.0</td>\n",
       "      <td>2016-01-15T21:54:06.000Z</td>\n",
       "      <td>Unassigned</td>\n",
       "      <td>0</td>\n",
       "      <td>You think they're going to stop but they usual...</td>\n",
       "      <td>walks</td>\n",
       "      <td>people run red lights / stop signs</td>\n",
       "    </tr>\n",
       "    <tr>\n",
       "      <th>27</th>\n",
       "      <td>-71.094361</td>\n",
       "      <td>42.347166</td>\n",
       "      <td>14021</td>\n",
       "      <td>NaN</td>\n",
       "      <td>14021.0</td>\n",
       "      <td>2016-01-15T21:55:15.000Z</td>\n",
       "      <td>Unassigned</td>\n",
       "      <td>0</td>\n",
       "      <td>The street is one lane in each direction with ...</td>\n",
       "      <td>walks</td>\n",
       "      <td>too many lanes to cross</td>\n",
       "    </tr>\n",
       "    <tr>\n",
       "      <th>28</th>\n",
       "      <td>-71.105546</td>\n",
       "      <td>42.347527</td>\n",
       "      <td>14022</td>\n",
       "      <td>NaN</td>\n",
       "      <td>14022.0</td>\n",
       "      <td>2016-01-15T21:56:02.000Z</td>\n",
       "      <td>Unassigned</td>\n",
       "      <td>0</td>\n",
       "      <td>Super wide intersection for a relatively minor...</td>\n",
       "      <td>walks</td>\n",
       "      <td>too many lanes to cross</td>\n",
       "    </tr>\n",
       "    <tr>\n",
       "      <th>29</th>\n",
       "      <td>-71.105580</td>\n",
       "      <td>42.347620</td>\n",
       "      <td>14023</td>\n",
       "      <td>NaN</td>\n",
       "      <td>14023.0</td>\n",
       "      <td>2016-01-15T21:56:58.000Z</td>\n",
       "      <td>Unassigned</td>\n",
       "      <td>0</td>\n",
       "      <td>The corners are so far set back that it's diff...</td>\n",
       "      <td>walks</td>\n",
       "      <td>people don't yield while</td>\n",
       "    </tr>\n",
       "    <tr>\n",
       "      <th>30</th>\n",
       "      <td>-71.044260</td>\n",
       "      <td>42.338004</td>\n",
       "      <td>14024</td>\n",
       "      <td>NaN</td>\n",
       "      <td>14024.0</td>\n",
       "      <td>2016-01-15T21:58:22.000Z</td>\n",
       "      <td>Unassigned</td>\n",
       "      <td>0</td>\n",
       "      <td>The geometry of this intersection makes visibi...</td>\n",
       "      <td>drives</td>\n",
       "      <td>hard to see / low visibility</td>\n",
       "    </tr>\n",
       "    <tr>\n",
       "      <th>31</th>\n",
       "      <td>-71.095597</td>\n",
       "      <td>42.348788</td>\n",
       "      <td>14025</td>\n",
       "      <td>NaN</td>\n",
       "      <td>14025.0</td>\n",
       "      <td>2016-01-15T22:26:29.000Z</td>\n",
       "      <td>Unassigned</td>\n",
       "      <td>0</td>\n",
       "      <td>the hotel valet always has cars double parked ...</td>\n",
       "      <td>bikes</td>\n",
       "      <td>people double park their vehicles</td>\n",
       "    </tr>\n",
       "    <tr>\n",
       "      <th>32</th>\n",
       "      <td>-71.097840</td>\n",
       "      <td>42.344573</td>\n",
       "      <td>14026</td>\n",
       "      <td>NaN</td>\n",
       "      <td>14026.0</td>\n",
       "      <td>2016-01-15T22:29:08.000Z</td>\n",
       "      <td>Unassigned</td>\n",
       "      <td>0</td>\n",
       "      <td>it's very scary to walk through the intersecti...</td>\n",
       "      <td>walks</td>\n",
       "      <td>people don't yield while</td>\n",
       "    </tr>\n",
       "    <tr>\n",
       "      <th>33</th>\n",
       "      <td>-71.057208</td>\n",
       "      <td>42.359966</td>\n",
       "      <td>14407</td>\n",
       "      <td>NaN</td>\n",
       "      <td>14407.0</td>\n",
       "      <td>2016-01-19T14:39:16.000Z</td>\n",
       "      <td>Unassigned</td>\n",
       "      <td>0</td>\n",
       "      <td>It takes a really long time to be able to cros...</td>\n",
       "      <td>walks</td>\n",
       "      <td>wait for the \"walk\" signal is too long</td>\n",
       "    </tr>\n",
       "    <tr>\n",
       "      <th>34</th>\n",
       "      <td>-71.056316</td>\n",
       "      <td>42.342347</td>\n",
       "      <td>14408</td>\n",
       "      <td>NaN</td>\n",
       "      <td>14408.0</td>\n",
       "      <td>2016-01-19T14:44:47.000Z</td>\n",
       "      <td>Unassigned</td>\n",
       "      <td>0</td>\n",
       "      <td>There is always double parking on both sides o...</td>\n",
       "      <td>bikes</td>\n",
       "      <td>people double park their vehicles</td>\n",
       "    </tr>\n",
       "    <tr>\n",
       "      <th>35</th>\n",
       "      <td>-71.105192</td>\n",
       "      <td>42.334036</td>\n",
       "      <td>14409</td>\n",
       "      <td>NaN</td>\n",
       "      <td>14409.0</td>\n",
       "      <td>2016-01-19T14:46:18.000Z</td>\n",
       "      <td>Unassigned</td>\n",
       "      <td>0</td>\n",
       "      <td>An old woman tried to cross a parking lane, 2 ...</td>\n",
       "      <td>walks</td>\n",
       "      <td>too many lanes to cross</td>\n",
       "    </tr>\n",
       "    <tr>\n",
       "      <th>36</th>\n",
       "      <td>-71.063597</td>\n",
       "      <td>42.357577</td>\n",
       "      <td>14410</td>\n",
       "      <td>NaN</td>\n",
       "      <td>14410.0</td>\n",
       "      <td>2016-01-19T14:47:23.000Z</td>\n",
       "      <td>Unassigned</td>\n",
       "      <td>0</td>\n",
       "      <td>There's a statue that's a tourist attraction, ...</td>\n",
       "      <td>walks</td>\n",
       "      <td>sidewalks/ramps dont exist or need improvement</td>\n",
       "    </tr>\n",
       "    <tr>\n",
       "      <th>...</th>\n",
       "      <td>...</td>\n",
       "      <td>...</td>\n",
       "      <td>...</td>\n",
       "      <td>...</td>\n",
       "      <td>...</td>\n",
       "      <td>...</td>\n",
       "      <td>...</td>\n",
       "      <td>...</td>\n",
       "      <td>...</td>\n",
       "      <td>...</td>\n",
       "      <td>...</td>\n",
       "    </tr>\n",
       "    <tr>\n",
       "      <th>8502</th>\n",
       "      <td>-71.150444</td>\n",
       "      <td>42.336160</td>\n",
       "      <td>558504</td>\n",
       "      <td>NaN</td>\n",
       "      <td>558504.0</td>\n",
       "      <td>2017-03-07T19:40:59.000Z</td>\n",
       "      <td>Unassigned</td>\n",
       "      <td>0</td>\n",
       "      <td>Sutherland Road needs a one way arrow painted ...</td>\n",
       "      <td>walks</td>\n",
       "      <td>people run red lights / stop signs</td>\n",
       "    </tr>\n",
       "    <tr>\n",
       "      <th>8503</th>\n",
       "      <td>-71.107347</td>\n",
       "      <td>42.305618</td>\n",
       "      <td>556904</td>\n",
       "      <td>NaN</td>\n",
       "      <td>556904.0</td>\n",
       "      <td>2017-02-28T22:31:55.000Z</td>\n",
       "      <td>Unassigned</td>\n",
       "      <td>0</td>\n",
       "      <td>Wrong way on one-way street. Has been an issue...</td>\n",
       "      <td>walks</td>\n",
       "      <td>intersections are congested and dangerous</td>\n",
       "    </tr>\n",
       "    <tr>\n",
       "      <th>8504</th>\n",
       "      <td>-71.110719</td>\n",
       "      <td>42.306135</td>\n",
       "      <td>556905</td>\n",
       "      <td>NaN</td>\n",
       "      <td>556905.0</td>\n",
       "      <td>2017-02-28T22:39:27.000Z</td>\n",
       "      <td>Unassigned</td>\n",
       "      <td>0</td>\n",
       "      <td>On a regular basis, my dog and I are either bu...</td>\n",
       "      <td>walks</td>\n",
       "      <td>people run red lights / stop signs</td>\n",
       "    </tr>\n",
       "    <tr>\n",
       "      <th>8506</th>\n",
       "      <td>-71.097362</td>\n",
       "      <td>42.331004</td>\n",
       "      <td>558904</td>\n",
       "      <td>NaN</td>\n",
       "      <td>558904.0</td>\n",
       "      <td>2017-03-07T20:54:07.000Z</td>\n",
       "      <td>Unassigned</td>\n",
       "      <td>0</td>\n",
       "      <td>Poor visibility for drivers turning from Gore ...</td>\n",
       "      <td>drives</td>\n",
       "      <td>people speed</td>\n",
       "    </tr>\n",
       "    <tr>\n",
       "      <th>8507</th>\n",
       "      <td>-71.108483</td>\n",
       "      <td>42.330615</td>\n",
       "      <td>558905</td>\n",
       "      <td>NaN</td>\n",
       "      <td>558905.0</td>\n",
       "      <td>2017-03-07T20:59:39.000Z</td>\n",
       "      <td>Unassigned</td>\n",
       "      <td>0</td>\n",
       "      <td>People either don't understand, or ignore, fou...</td>\n",
       "      <td>drives</td>\n",
       "      <td>people don't yield while</td>\n",
       "    </tr>\n",
       "    <tr>\n",
       "      <th>8508</th>\n",
       "      <td>-71.115652</td>\n",
       "      <td>42.319929</td>\n",
       "      <td>558906</td>\n",
       "      <td>NaN</td>\n",
       "      <td>558906.0</td>\n",
       "      <td>2017-03-07T21:39:38.000Z</td>\n",
       "      <td>Unassigned</td>\n",
       "      <td>0</td>\n",
       "      <td>Safety at this intersection would be hugely im...</td>\n",
       "      <td>walks</td>\n",
       "      <td>people don't yield while</td>\n",
       "    </tr>\n",
       "    <tr>\n",
       "      <th>8509</th>\n",
       "      <td>-71.152276</td>\n",
       "      <td>42.287536</td>\n",
       "      <td>559304</td>\n",
       "      <td>NaN</td>\n",
       "      <td>559304.0</td>\n",
       "      <td>2017-03-08T14:47:23.000Z</td>\n",
       "      <td>Unassigned</td>\n",
       "      <td>0</td>\n",
       "      <td>Pedestrians have to cross 5 lanes of traffic p...</td>\n",
       "      <td>walks</td>\n",
       "      <td>too many lanes to cross</td>\n",
       "    </tr>\n",
       "    <tr>\n",
       "      <th>8510</th>\n",
       "      <td>-71.126376</td>\n",
       "      <td>42.288074</td>\n",
       "      <td>559704</td>\n",
       "      <td>NaN</td>\n",
       "      <td>559704.0</td>\n",
       "      <td>2017-03-16T20:39:47.000Z</td>\n",
       "      <td>Unassigned</td>\n",
       "      <td>0</td>\n",
       "      <td>people block the box</td>\n",
       "      <td>walks</td>\n",
       "      <td>people run red lights / stop signs</td>\n",
       "    </tr>\n",
       "    <tr>\n",
       "      <th>8511</th>\n",
       "      <td>-71.061885</td>\n",
       "      <td>42.380915</td>\n",
       "      <td>560104</td>\n",
       "      <td>NaN</td>\n",
       "      <td>560104.0</td>\n",
       "      <td>2017-03-17T16:24:24.000Z</td>\n",
       "      <td>Unassigned</td>\n",
       "      <td>0</td>\n",
       "      <td>No crosswalk on this side of terminal st for p...</td>\n",
       "      <td>walks</td>\n",
       "      <td>people cross away from the crosswalks</td>\n",
       "    </tr>\n",
       "    <tr>\n",
       "      <th>8512</th>\n",
       "      <td>-71.057160</td>\n",
       "      <td>42.359811</td>\n",
       "      <td>560504</td>\n",
       "      <td>NaN</td>\n",
       "      <td>560504.0</td>\n",
       "      <td>2017-03-17T23:13:24.000Z</td>\n",
       "      <td>Unassigned</td>\n",
       "      <td>0</td>\n",
       "      <td>Especially in the morning, cars routinely run ...</td>\n",
       "      <td>walks</td>\n",
       "      <td>people run red lights / stop signs</td>\n",
       "    </tr>\n",
       "    <tr>\n",
       "      <th>8513</th>\n",
       "      <td>-71.049086</td>\n",
       "      <td>42.333869</td>\n",
       "      <td>560904</td>\n",
       "      <td>NaN</td>\n",
       "      <td>560904.0</td>\n",
       "      <td>2017-03-23T15:46:04.000Z</td>\n",
       "      <td>Unassigned</td>\n",
       "      <td>0</td>\n",
       "      <td>Streetlights are way too low in this area</td>\n",
       "      <td>walks</td>\n",
       "      <td>hard to see / low visibility</td>\n",
       "    </tr>\n",
       "    <tr>\n",
       "      <th>8514</th>\n",
       "      <td>-71.047961</td>\n",
       "      <td>42.335624</td>\n",
       "      <td>561304</td>\n",
       "      <td>NaN</td>\n",
       "      <td>561304.0</td>\n",
       "      <td>2017-03-23T15:49:22.000Z</td>\n",
       "      <td>Unassigned</td>\n",
       "      <td>0</td>\n",
       "      <td>This area is so dark, it's actually scary to w...</td>\n",
       "      <td>walks</td>\n",
       "      <td>hard to see / low visibility</td>\n",
       "    </tr>\n",
       "    <tr>\n",
       "      <th>8515</th>\n",
       "      <td>-71.079576</td>\n",
       "      <td>42.339688</td>\n",
       "      <td>561704</td>\n",
       "      <td>NaN</td>\n",
       "      <td>561704.0</td>\n",
       "      <td>2017-03-24T19:07:25.000Z</td>\n",
       "      <td>Unassigned</td>\n",
       "      <td>0</td>\n",
       "      <td>Almost got hit again crossing Tremont.  Car in...</td>\n",
       "      <td>walks</td>\n",
       "      <td>too many lanes to cross</td>\n",
       "    </tr>\n",
       "    <tr>\n",
       "      <th>8516</th>\n",
       "      <td>-71.078396</td>\n",
       "      <td>42.337749</td>\n",
       "      <td>561705</td>\n",
       "      <td>NaN</td>\n",
       "      <td>561705.0</td>\n",
       "      <td>2017-03-24T19:20:45.000Z</td>\n",
       "      <td>Unassigned</td>\n",
       "      <td>0</td>\n",
       "      <td>Very consistent speeding on this street makes ...</td>\n",
       "      <td>bikes</td>\n",
       "      <td>people speed</td>\n",
       "    </tr>\n",
       "    <tr>\n",
       "      <th>8517</th>\n",
       "      <td>-71.079501</td>\n",
       "      <td>42.339750</td>\n",
       "      <td>562104</td>\n",
       "      <td>NaN</td>\n",
       "      <td>562104.0</td>\n",
       "      <td>2017-03-24T19:29:14.000Z</td>\n",
       "      <td>Unassigned</td>\n",
       "      <td>0</td>\n",
       "      <td>People constantly speeding through this area, ...</td>\n",
       "      <td>walks</td>\n",
       "      <td>people speed</td>\n",
       "    </tr>\n",
       "    <tr>\n",
       "      <th>8518</th>\n",
       "      <td>-71.126950</td>\n",
       "      <td>42.264177</td>\n",
       "      <td>562504</td>\n",
       "      <td>NaN</td>\n",
       "      <td>562504.0</td>\n",
       "      <td>2017-03-24T23:19:05.000Z</td>\n",
       "      <td>Unassigned</td>\n",
       "      <td>0</td>\n",
       "      <td>There's a large grey Chevrolet pick up parked ...</td>\n",
       "      <td>drives</td>\n",
       "      <td>hard to see / low visibility</td>\n",
       "    </tr>\n",
       "    <tr>\n",
       "      <th>8519</th>\n",
       "      <td>-71.091561</td>\n",
       "      <td>42.325652</td>\n",
       "      <td>562904</td>\n",
       "      <td>NaN</td>\n",
       "      <td>562904.0</td>\n",
       "      <td>2017-03-27T14:45:14.000Z</td>\n",
       "      <td>Unassigned</td>\n",
       "      <td>0</td>\n",
       "      <td>People speed up and down the hill not paying a...</td>\n",
       "      <td>drives</td>\n",
       "      <td>people speed</td>\n",
       "    </tr>\n",
       "    <tr>\n",
       "      <th>8520</th>\n",
       "      <td>-71.049361</td>\n",
       "      <td>42.312551</td>\n",
       "      <td>562905</td>\n",
       "      <td>NaN</td>\n",
       "      <td>562905.0</td>\n",
       "      <td>2017-03-27T19:23:02.000Z</td>\n",
       "      <td>Unassigned</td>\n",
       "      <td>0</td>\n",
       "      <td>This stretch of Savin Hill Ave is a one-way st...</td>\n",
       "      <td>walks</td>\n",
       "      <td>people speed</td>\n",
       "    </tr>\n",
       "    <tr>\n",
       "      <th>8521</th>\n",
       "      <td>-71.069855</td>\n",
       "      <td>42.350142</td>\n",
       "      <td>563304</td>\n",
       "      <td>NaN</td>\n",
       "      <td>563304.0</td>\n",
       "      <td>2017-03-29T17:14:29.000Z</td>\n",
       "      <td>Unassigned</td>\n",
       "      <td>0</td>\n",
       "      <td>The light is extremely confusing for both pede...</td>\n",
       "      <td>walks</td>\n",
       "      <td>wait for the \"walk\" signal is too long</td>\n",
       "    </tr>\n",
       "    <tr>\n",
       "      <th>8522</th>\n",
       "      <td>-71.128681</td>\n",
       "      <td>42.296481</td>\n",
       "      <td>563305</td>\n",
       "      <td>NaN</td>\n",
       "      <td>563305.0</td>\n",
       "      <td>2017-03-30T02:36:15.000Z</td>\n",
       "      <td>Unassigned</td>\n",
       "      <td>0</td>\n",
       "      <td>This new light takes way too long and causes m...</td>\n",
       "      <td>drives</td>\n",
       "      <td>intersections are congested and dangerous</td>\n",
       "    </tr>\n",
       "    <tr>\n",
       "      <th>8523</th>\n",
       "      <td>-71.083141</td>\n",
       "      <td>42.330358</td>\n",
       "      <td>563704</td>\n",
       "      <td>NaN</td>\n",
       "      <td>563704.0</td>\n",
       "      <td>2017-03-29T17:16:03.000Z</td>\n",
       "      <td>Unassigned</td>\n",
       "      <td>0</td>\n",
       "      <td>Put stop sign here, no one yields to pedestria...</td>\n",
       "      <td>walks</td>\n",
       "      <td>intersections are congested and dangerous</td>\n",
       "    </tr>\n",
       "    <tr>\n",
       "      <th>8524</th>\n",
       "      <td>-71.111941</td>\n",
       "      <td>42.301764</td>\n",
       "      <td>563705</td>\n",
       "      <td>NaN</td>\n",
       "      <td>563705.0</td>\n",
       "      <td>2017-03-30T02:45:21.000Z</td>\n",
       "      <td>Unassigned</td>\n",
       "      <td>0</td>\n",
       "      <td>This whole area is a disaster for drivers, bik...</td>\n",
       "      <td>drives</td>\n",
       "      <td>intersections are congested and dangerous</td>\n",
       "    </tr>\n",
       "    <tr>\n",
       "      <th>8525</th>\n",
       "      <td>-71.136725</td>\n",
       "      <td>42.287816</td>\n",
       "      <td>564105</td>\n",
       "      <td>NaN</td>\n",
       "      <td>564105.0</td>\n",
       "      <td>2017-03-30T02:47:56.000Z</td>\n",
       "      <td>Unassigned</td>\n",
       "      <td>0</td>\n",
       "      <td>This light is too long with too many signals. ...</td>\n",
       "      <td>travels (other)</td>\n",
       "      <td>intersections are congested and dangerous</td>\n",
       "    </tr>\n",
       "    <tr>\n",
       "      <th>8526</th>\n",
       "      <td>-71.094565</td>\n",
       "      <td>42.335491</td>\n",
       "      <td>564505</td>\n",
       "      <td>NaN</td>\n",
       "      <td>564505.0</td>\n",
       "      <td>2017-03-30T15:47:13.000Z</td>\n",
       "      <td>Unassigned</td>\n",
       "      <td>0</td>\n",
       "      <td>This is a heavily trafficked crosswalk for stu...</td>\n",
       "      <td>walks</td>\n",
       "      <td>people don't yield while</td>\n",
       "    </tr>\n",
       "    <tr>\n",
       "      <th>8527</th>\n",
       "      <td>-71.100094</td>\n",
       "      <td>42.344052</td>\n",
       "      <td>564905</td>\n",
       "      <td>NaN</td>\n",
       "      <td>564905.0</td>\n",
       "      <td>2017-03-30T22:50:04.000Z</td>\n",
       "      <td>Unassigned</td>\n",
       "      <td>0</td>\n",
       "      <td>I cross Boylston Street often as I live in the...</td>\n",
       "      <td>walks</td>\n",
       "      <td>people run red lights / stop signs</td>\n",
       "    </tr>\n",
       "    <tr>\n",
       "      <th>8528</th>\n",
       "      <td>-71.166131</td>\n",
       "      <td>42.266728</td>\n",
       "      <td>565305</td>\n",
       "      <td>NaN</td>\n",
       "      <td>565305.0</td>\n",
       "      <td>2017-04-05T13:14:19.000Z</td>\n",
       "      <td>Unassigned</td>\n",
       "      <td>0</td>\n",
       "      <td>Drivers approaching from either side of hill c...</td>\n",
       "      <td>drives</td>\n",
       "      <td>hard to see / low visibility</td>\n",
       "    </tr>\n",
       "    <tr>\n",
       "      <th>8529</th>\n",
       "      <td>-71.118045</td>\n",
       "      <td>42.278494</td>\n",
       "      <td>565306</td>\n",
       "      <td>NaN</td>\n",
       "      <td>565306.0</td>\n",
       "      <td>2017-04-05T13:45:05.000Z</td>\n",
       "      <td>Unassigned</td>\n",
       "      <td>0</td>\n",
       "      <td>I work for the District 5 City Councilor Tim M...</td>\n",
       "      <td>drives</td>\n",
       "      <td>people speed</td>\n",
       "    </tr>\n",
       "    <tr>\n",
       "      <th>8530</th>\n",
       "      <td>-71.118871</td>\n",
       "      <td>42.272554</td>\n",
       "      <td>565307</td>\n",
       "      <td>NaN</td>\n",
       "      <td>565307.0</td>\n",
       "      <td>2017-04-05T13:46:30.000Z</td>\n",
       "      <td>Unassigned</td>\n",
       "      <td>0</td>\n",
       "      <td>I work for the District 5 City Councilor Tim M...</td>\n",
       "      <td>drives</td>\n",
       "      <td>people speed</td>\n",
       "    </tr>\n",
       "    <tr>\n",
       "      <th>8531</th>\n",
       "      <td>-71.164053</td>\n",
       "      <td>42.272248</td>\n",
       "      <td>565705</td>\n",
       "      <td>NaN</td>\n",
       "      <td>565705.0</td>\n",
       "      <td>2017-04-05T13:19:03.000Z</td>\n",
       "      <td>Unassigned</td>\n",
       "      <td>0</td>\n",
       "      <td>People double park picking up/dropping off kid...</td>\n",
       "      <td>drives</td>\n",
       "      <td>hard to see / low visibility</td>\n",
       "    </tr>\n",
       "    <tr>\n",
       "      <th>8532</th>\n",
       "      <td>-71.144068</td>\n",
       "      <td>42.280065</td>\n",
       "      <td>566105</td>\n",
       "      <td>NaN</td>\n",
       "      <td>566105.0</td>\n",
       "      <td>2017-04-06T15:52:53.000Z</td>\n",
       "      <td>Unassigned</td>\n",
       "      <td>0</td>\n",
       "      <td>I need to avoid this street on weekdays betwee...</td>\n",
       "      <td>travels (other)</td>\n",
       "      <td>people speed</td>\n",
       "    </tr>\n",
       "  </tbody>\n",
       "</table>\n",
       "<p>6646 rows × 11 columns</p>\n",
       "</div>"
      ],
      "text/plain": [
       "             ﻿X          Y  OBJECTID  GLOBALID  REQUESTID  \\\n",
       "0    -71.071329  42.332161     15607       NaN    15607.0   \n",
       "1    -71.067764  42.374244     15608       NaN    15608.0   \n",
       "2    -71.066077  42.374768     15609       NaN    15609.0   \n",
       "4    -71.070658  42.351921     16008       NaN    16008.0   \n",
       "5    -71.059937  42.358693     16407       NaN    16407.0   \n",
       "8    -71.093018  42.349864     13609       NaN    13609.0   \n",
       "9    -71.091526  42.349158     13610       NaN    13610.0   \n",
       "10   -71.067408  42.352338     13611       NaN    13611.0   \n",
       "11   -71.069229  42.345068     13612       NaN    13612.0   \n",
       "12   -71.077320  42.350091     13613       NaN    13613.0   \n",
       "17   -71.104105  42.316973     14011       NaN    14011.0   \n",
       "18   -71.109895  42.322065     14012       NaN    14012.0   \n",
       "19   -71.111534  42.320998     14013       NaN    14013.0   \n",
       "20   -71.088152  42.336125     14014       NaN    14014.0   \n",
       "21   -71.089584  42.345098     14015       NaN    14015.0   \n",
       "22   -71.093318  42.349895     14016       NaN    14016.0   \n",
       "23   -71.072547  42.355430     14017       NaN    14017.0   \n",
       "24   -71.064761  42.343629     14018       NaN    14018.0   \n",
       "25   -71.102581  42.343327     14019       NaN    14019.0   \n",
       "26   -71.075886  42.343919     14020       NaN    14020.0   \n",
       "27   -71.094361  42.347166     14021       NaN    14021.0   \n",
       "28   -71.105546  42.347527     14022       NaN    14022.0   \n",
       "29   -71.105580  42.347620     14023       NaN    14023.0   \n",
       "30   -71.044260  42.338004     14024       NaN    14024.0   \n",
       "31   -71.095597  42.348788     14025       NaN    14025.0   \n",
       "32   -71.097840  42.344573     14026       NaN    14026.0   \n",
       "33   -71.057208  42.359966     14407       NaN    14407.0   \n",
       "34   -71.056316  42.342347     14408       NaN    14408.0   \n",
       "35   -71.105192  42.334036     14409       NaN    14409.0   \n",
       "36   -71.063597  42.357577     14410       NaN    14410.0   \n",
       "...         ...        ...       ...       ...        ...   \n",
       "8502 -71.150444  42.336160    558504       NaN   558504.0   \n",
       "8503 -71.107347  42.305618    556904       NaN   556904.0   \n",
       "8504 -71.110719  42.306135    556905       NaN   556905.0   \n",
       "8506 -71.097362  42.331004    558904       NaN   558904.0   \n",
       "8507 -71.108483  42.330615    558905       NaN   558905.0   \n",
       "8508 -71.115652  42.319929    558906       NaN   558906.0   \n",
       "8509 -71.152276  42.287536    559304       NaN   559304.0   \n",
       "8510 -71.126376  42.288074    559704       NaN   559704.0   \n",
       "8511 -71.061885  42.380915    560104       NaN   560104.0   \n",
       "8512 -71.057160  42.359811    560504       NaN   560504.0   \n",
       "8513 -71.049086  42.333869    560904       NaN   560904.0   \n",
       "8514 -71.047961  42.335624    561304       NaN   561304.0   \n",
       "8515 -71.079576  42.339688    561704       NaN   561704.0   \n",
       "8516 -71.078396  42.337749    561705       NaN   561705.0   \n",
       "8517 -71.079501  42.339750    562104       NaN   562104.0   \n",
       "8518 -71.126950  42.264177    562504       NaN   562504.0   \n",
       "8519 -71.091561  42.325652    562904       NaN   562904.0   \n",
       "8520 -71.049361  42.312551    562905       NaN   562905.0   \n",
       "8521 -71.069855  42.350142    563304       NaN   563304.0   \n",
       "8522 -71.128681  42.296481    563305       NaN   563305.0   \n",
       "8523 -71.083141  42.330358    563704       NaN   563704.0   \n",
       "8524 -71.111941  42.301764    563705       NaN   563705.0   \n",
       "8525 -71.136725  42.287816    564105       NaN   564105.0   \n",
       "8526 -71.094565  42.335491    564505       NaN   564505.0   \n",
       "8527 -71.100094  42.344052    564905       NaN   564905.0   \n",
       "8528 -71.166131  42.266728    565305       NaN   565305.0   \n",
       "8529 -71.118045  42.278494    565306       NaN   565306.0   \n",
       "8530 -71.118871  42.272554    565307       NaN   565307.0   \n",
       "8531 -71.164053  42.272248    565705       NaN   565705.0   \n",
       "8532 -71.144068  42.280065    566105       NaN   566105.0   \n",
       "\n",
       "                   REQUESTDATE      STATUS  STREETSEGID  \\\n",
       "0     2016-01-19T22:14:26.000Z  Unassigned            0   \n",
       "1     2016-01-19T22:55:29.000Z  Unassigned            0   \n",
       "2     2016-01-19T22:57:09.000Z  Unassigned            0   \n",
       "4     2016-01-19T23:39:45.000Z  Unassigned            0   \n",
       "5     2016-01-20T21:28:27.000Z  Unassigned            0   \n",
       "8     2016-01-15T21:46:24.000Z  Unassigned            0   \n",
       "9     2016-01-15T21:47:56.000Z  Unassigned            0   \n",
       "10    2016-01-15T21:49:22.000Z  Unassigned            0   \n",
       "11    2016-01-15T21:52:00.000Z  Unassigned            0   \n",
       "12    2016-01-15T21:54:47.000Z  Unassigned            0   \n",
       "17    2016-01-15T21:39:17.000Z  Unassigned            0   \n",
       "18    2016-01-15T21:40:03.000Z  Unassigned            0   \n",
       "19    2016-01-15T21:41:06.000Z  Unassigned            0   \n",
       "20    2016-01-15T21:43:16.000Z  Unassigned            0   \n",
       "21    2016-01-15T21:44:09.000Z  Unassigned            0   \n",
       "22    2016-01-15T21:45:07.000Z  Unassigned            0   \n",
       "23    2016-01-15T21:50:03.000Z  Unassigned            0   \n",
       "24    2016-01-15T21:52:49.000Z  Unassigned            0   \n",
       "25    2016-01-15T21:53:25.000Z  Unassigned            0   \n",
       "26    2016-01-15T21:54:06.000Z  Unassigned            0   \n",
       "27    2016-01-15T21:55:15.000Z  Unassigned            0   \n",
       "28    2016-01-15T21:56:02.000Z  Unassigned            0   \n",
       "29    2016-01-15T21:56:58.000Z  Unassigned            0   \n",
       "30    2016-01-15T21:58:22.000Z  Unassigned            0   \n",
       "31    2016-01-15T22:26:29.000Z  Unassigned            0   \n",
       "32    2016-01-15T22:29:08.000Z  Unassigned            0   \n",
       "33    2016-01-19T14:39:16.000Z  Unassigned            0   \n",
       "34    2016-01-19T14:44:47.000Z  Unassigned            0   \n",
       "35    2016-01-19T14:46:18.000Z  Unassigned            0   \n",
       "36    2016-01-19T14:47:23.000Z  Unassigned            0   \n",
       "...                        ...         ...          ...   \n",
       "8502  2017-03-07T19:40:59.000Z  Unassigned            0   \n",
       "8503  2017-02-28T22:31:55.000Z  Unassigned            0   \n",
       "8504  2017-02-28T22:39:27.000Z  Unassigned            0   \n",
       "8506  2017-03-07T20:54:07.000Z  Unassigned            0   \n",
       "8507  2017-03-07T20:59:39.000Z  Unassigned            0   \n",
       "8508  2017-03-07T21:39:38.000Z  Unassigned            0   \n",
       "8509  2017-03-08T14:47:23.000Z  Unassigned            0   \n",
       "8510  2017-03-16T20:39:47.000Z  Unassigned            0   \n",
       "8511  2017-03-17T16:24:24.000Z  Unassigned            0   \n",
       "8512  2017-03-17T23:13:24.000Z  Unassigned            0   \n",
       "8513  2017-03-23T15:46:04.000Z  Unassigned            0   \n",
       "8514  2017-03-23T15:49:22.000Z  Unassigned            0   \n",
       "8515  2017-03-24T19:07:25.000Z  Unassigned            0   \n",
       "8516  2017-03-24T19:20:45.000Z  Unassigned            0   \n",
       "8517  2017-03-24T19:29:14.000Z  Unassigned            0   \n",
       "8518  2017-03-24T23:19:05.000Z  Unassigned            0   \n",
       "8519  2017-03-27T14:45:14.000Z  Unassigned            0   \n",
       "8520  2017-03-27T19:23:02.000Z  Unassigned            0   \n",
       "8521  2017-03-29T17:14:29.000Z  Unassigned            0   \n",
       "8522  2017-03-30T02:36:15.000Z  Unassigned            0   \n",
       "8523  2017-03-29T17:16:03.000Z  Unassigned            0   \n",
       "8524  2017-03-30T02:45:21.000Z  Unassigned            0   \n",
       "8525  2017-03-30T02:47:56.000Z  Unassigned            0   \n",
       "8526  2017-03-30T15:47:13.000Z  Unassigned            0   \n",
       "8527  2017-03-30T22:50:04.000Z  Unassigned            0   \n",
       "8528  2017-04-05T13:14:19.000Z  Unassigned            0   \n",
       "8529  2017-04-05T13:45:05.000Z  Unassigned            0   \n",
       "8530  2017-04-05T13:46:30.000Z  Unassigned            0   \n",
       "8531  2017-04-05T13:19:03.000Z  Unassigned            0   \n",
       "8532  2017-04-06T15:52:53.000Z  Unassigned            0   \n",
       "\n",
       "                                               COMMENTS         USERTYPE  \\\n",
       "0     the roadway is super wide here with no lane ma...            bikes   \n",
       "1     As someone who walks from SE of the intersecti...            walks   \n",
       "2     I'm one of those people. Many people walk nort...            walks   \n",
       "4     People do not understand which lane to move in...           drives   \n",
       "5     I rarely use the crosswalk because the light h...            walks   \n",
       "8     I feel scared biking on the \"green carpet\" bik...            bikes   \n",
       "9     While I love that the Comm Ave bike lane is to...            bikes   \n",
       "10    Need a bike facility to connect Boylston St to...            bikes   \n",
       "11    3 lane, no parking either side. SPEEDWAY. No s...            walks   \n",
       "12    People who are walking constantly run the red ...            bikes   \n",
       "17    The SWC path has an outlet here right across f...            walks   \n",
       "18    People driving out of the rotary and going ont...            walks   \n",
       "19    An \"except bikes\" under the Do Not Enter sign ...            bikes   \n",
       "20    Where is the southwest corridor bike path thro...            bikes   \n",
       "21    Hemenway from Boylston to Westland is one way,...            bikes   \n",
       "22                          Huge wide open intersection            walks   \n",
       "23    Cars from Storrow Drive don't yield when turni...            walks   \n",
       "24    Always traffic here. Remove one of the parking...           drives   \n",
       "25    It feels like it will take forever to get from...            walks   \n",
       "26    You think they're going to stop but they usual...            walks   \n",
       "27    The street is one lane in each direction with ...            walks   \n",
       "28    Super wide intersection for a relatively minor...            walks   \n",
       "29    The corners are so far set back that it's diff...            walks   \n",
       "30    The geometry of this intersection makes visibi...           drives   \n",
       "31    the hotel valet always has cars double parked ...            bikes   \n",
       "32    it's very scary to walk through the intersecti...            walks   \n",
       "33    It takes a really long time to be able to cros...            walks   \n",
       "34    There is always double parking on both sides o...            bikes   \n",
       "35    An old woman tried to cross a parking lane, 2 ...            walks   \n",
       "36    There's a statue that's a tourist attraction, ...            walks   \n",
       "...                                                 ...              ...   \n",
       "8502  Sutherland Road needs a one way arrow painted ...            walks   \n",
       "8503  Wrong way on one-way street. Has been an issue...            walks   \n",
       "8504  On a regular basis, my dog and I are either bu...            walks   \n",
       "8506  Poor visibility for drivers turning from Gore ...           drives   \n",
       "8507  People either don't understand, or ignore, fou...           drives   \n",
       "8508  Safety at this intersection would be hugely im...            walks   \n",
       "8509  Pedestrians have to cross 5 lanes of traffic p...            walks   \n",
       "8510                               people block the box            walks   \n",
       "8511  No crosswalk on this side of terminal st for p...            walks   \n",
       "8512  Especially in the morning, cars routinely run ...            walks   \n",
       "8513          Streetlights are way too low in this area            walks   \n",
       "8514  This area is so dark, it's actually scary to w...            walks   \n",
       "8515  Almost got hit again crossing Tremont.  Car in...            walks   \n",
       "8516  Very consistent speeding on this street makes ...            bikes   \n",
       "8517  People constantly speeding through this area, ...            walks   \n",
       "8518  There's a large grey Chevrolet pick up parked ...           drives   \n",
       "8519  People speed up and down the hill not paying a...           drives   \n",
       "8520  This stretch of Savin Hill Ave is a one-way st...            walks   \n",
       "8521  The light is extremely confusing for both pede...            walks   \n",
       "8522  This new light takes way too long and causes m...           drives   \n",
       "8523  Put stop sign here, no one yields to pedestria...            walks   \n",
       "8524  This whole area is a disaster for drivers, bik...           drives   \n",
       "8525  This light is too long with too many signals. ...  travels (other)   \n",
       "8526  This is a heavily trafficked crosswalk for stu...            walks   \n",
       "8527  I cross Boylston Street often as I live in the...            walks   \n",
       "8528  Drivers approaching from either side of hill c...           drives   \n",
       "8529  I work for the District 5 City Councilor Tim M...           drives   \n",
       "8530  I work for the District 5 City Councilor Tim M...           drives   \n",
       "8531  People double park picking up/dropping off kid...           drives   \n",
       "8532  I need to avoid this street on weekdays betwee...  travels (other)   \n",
       "\n",
       "                                     REQUESTTYPE_new  \n",
       "0     bike facilities dont exist or need improvement  \n",
       "1             wait for the \"walk\" signal is too long  \n",
       "2              people cross away from the crosswalks  \n",
       "4                           people don't yield while  \n",
       "5              people cross away from the crosswalks  \n",
       "8     bike facilities dont exist or need improvement  \n",
       "9     bike facilities dont exist or need improvement  \n",
       "10    bike facilities dont exist or need improvement  \n",
       "11                                      people speed  \n",
       "12                people run red lights / stop signs  \n",
       "17             people cross away from the crosswalks  \n",
       "18                          people don't yield while  \n",
       "19    bike facilities dont exist or need improvement  \n",
       "20    bike facilities dont exist or need improvement  \n",
       "21    bike facilities dont exist or need improvement  \n",
       "22                           too many lanes to cross  \n",
       "23                          people don't yield while  \n",
       "24         intersections are congested and dangerous  \n",
       "25                           too many lanes to cross  \n",
       "26                people run red lights / stop signs  \n",
       "27                           too many lanes to cross  \n",
       "28                           too many lanes to cross  \n",
       "29                          people don't yield while  \n",
       "30                      hard to see / low visibility  \n",
       "31                 people double park their vehicles  \n",
       "32                          people don't yield while  \n",
       "33            wait for the \"walk\" signal is too long  \n",
       "34                 people double park their vehicles  \n",
       "35                           too many lanes to cross  \n",
       "36    sidewalks/ramps dont exist or need improvement  \n",
       "...                                              ...  \n",
       "8502              people run red lights / stop signs  \n",
       "8503       intersections are congested and dangerous  \n",
       "8504              people run red lights / stop signs  \n",
       "8506                                    people speed  \n",
       "8507                        people don't yield while  \n",
       "8508                        people don't yield while  \n",
       "8509                         too many lanes to cross  \n",
       "8510              people run red lights / stop signs  \n",
       "8511           people cross away from the crosswalks  \n",
       "8512              people run red lights / stop signs  \n",
       "8513                    hard to see / low visibility  \n",
       "8514                    hard to see / low visibility  \n",
       "8515                         too many lanes to cross  \n",
       "8516                                    people speed  \n",
       "8517                                    people speed  \n",
       "8518                    hard to see / low visibility  \n",
       "8519                                    people speed  \n",
       "8520                                    people speed  \n",
       "8521          wait for the \"walk\" signal is too long  \n",
       "8522       intersections are congested and dangerous  \n",
       "8523       intersections are congested and dangerous  \n",
       "8524       intersections are congested and dangerous  \n",
       "8525       intersections are congested and dangerous  \n",
       "8526                        people don't yield while  \n",
       "8527              people run red lights / stop signs  \n",
       "8528                    hard to see / low visibility  \n",
       "8529                                    people speed  \n",
       "8530                                    people speed  \n",
       "8531                    hard to see / low visibility  \n",
       "8532                                    people speed  \n",
       "\n",
       "[6646 rows x 11 columns]"
      ]
     },
     "execution_count": 75,
     "metadata": {},
     "output_type": "execute_result"
    }
   ],
   "source": [
    "X_train_text2, X_test_text2, y_train2, y_test2 = train_test_split(, y, test_size=0.20, stratify=y_other, \\\n",
    "                                                              random_state=seed)\n",
    "lr_pipe = make_pipeline(CountVectorizer(min_df=4, ngram_range=(1,3)), Normalizer(copy=True, norm='l2'),\\\n",
    "                        LogisticRegression(C=10))\n",
    "lr_pipe.fit(X_train_text1, y_train1)\n",
    "pred = lr_pipe.predict(X_test_text1)\n",
    "print(lr_pipe.score(X_test_text1, y_test1))\n",
    "score = f1_score(y_test1, pred, average='macro')\n",
    "score"
   ]
  },
  {
   "cell_type": "markdown",
   "metadata": {},
   "source": [
    "# Extra Credit [Up to +20 points]"
   ]
  },
  {
   "cell_type": "markdown",
   "metadata": {},
   "source": [
    "Use a word embedding representation like word2vec for step 3 and or step 6. "
   ]
  },
  {
   "cell_type": "code",
   "execution_count": 7,
   "metadata": {
    "collapsed": true
   },
   "outputs": [],
   "source": [
    "# Add your code for extra credit here. You may use multiple cells. \n",
    "\n"
   ]
  }
 ],
 "metadata": {
  "anaconda-cloud": {},
  "kernelspec": {
   "display_name": "Python [Root]",
   "language": "python",
   "name": "Python [Root]"
  },
  "language_info": {
   "codemirror_mode": {
    "name": "ipython",
    "version": 2
   },
   "file_extension": ".py",
   "mimetype": "text/x-python",
   "name": "python",
   "nbconvert_exporter": "python",
   "pygments_lexer": "ipython2",
   "version": "2.7.12"
  }
 },
 "nbformat": 4,
 "nbformat_minor": 1
}
